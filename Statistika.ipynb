{
 "cells": [
  {
   "cell_type": "code",
   "execution_count": 1,
   "id": "cd93bf96",
   "metadata": {},
   "outputs": [],
   "source": [
    "import pandas as pd\n",
    "import matplotlib.pyplot as plt\n",
    "import numpy as np"
   ]
  },
  {
   "cell_type": "code",
   "execution_count": 2,
   "id": "f387d2be",
   "metadata": {},
   "outputs": [],
   "source": [
    "\"D:/pythonprojects/VariablesWeightPipik\"\n",
    "filename_ = \"PDRB perkotaan 2010, LT, & PDD\"\n",
    "path_laptop = \"D:/VariablesWeightPipik-main/\"\n",
    "dataframe = pd.read_excel(path_laptop + filename_ + \".xlsx\")\n",
    "# dependent = pd.read_excel(r\"D:/pythonprojects/VariablesWeightPipik/dependent.xlsx\")\n",
    "# independent = pd.read_excel(r\"D:/pythonprojects/VariablesWeightPipik/independent.xlsx\")"
   ]
  },
  {
   "cell_type": "code",
   "execution_count": 3,
   "id": "d0e87c56",
   "metadata": {},
   "outputs": [
    {
     "data": {
      "text/html": [
       "<div>\n",
       "<style scoped>\n",
       "    .dataframe tbody tr th:only-of-type {\n",
       "        vertical-align: middle;\n",
       "    }\n",
       "\n",
       "    .dataframe tbody tr th {\n",
       "        vertical-align: top;\n",
       "    }\n",
       "\n",
       "    .dataframe thead th {\n",
       "        text-align: right;\n",
       "    }\n",
       "</style>\n",
       "<table border=\"1\" class=\"dataframe\">\n",
       "  <thead>\n",
       "    <tr style=\"text-align: right;\">\n",
       "      <th></th>\n",
       "      <th>No</th>\n",
       "      <th>Provinsi</th>\n",
       "      <th>Kota/Kabupaten</th>\n",
       "      <th>Total PDRB Perkotaan 2010 (Juta)</th>\n",
       "      <th>Lahan Terbangun Perkotaan RBI 2010 (ha)</th>\n",
       "      <th>Penduduk Perkotaan 2010 (Jiwa)</th>\n",
       "      <th>Kepadatan Penduduk 2010 (Jiwa/Ha)</th>\n",
       "    </tr>\n",
       "  </thead>\n",
       "  <tbody>\n",
       "    <tr>\n",
       "      <th>0</th>\n",
       "      <td>1</td>\n",
       "      <td>PROVINSI JAWA TENGAH</td>\n",
       "      <td>Cilacap</td>\n",
       "      <td>67299331.32</td>\n",
       "      <td>9198.0</td>\n",
       "      <td>570632</td>\n",
       "      <td>62.038704</td>\n",
       "    </tr>\n",
       "    <tr>\n",
       "      <th>1</th>\n",
       "      <td>2</td>\n",
       "      <td>PROVINSI JAWA TENGAH</td>\n",
       "      <td>Banyumas</td>\n",
       "      <td>18226248.09</td>\n",
       "      <td>10503.0</td>\n",
       "      <td>807577</td>\n",
       "      <td>76.890127</td>\n",
       "    </tr>\n",
       "    <tr>\n",
       "      <th>2</th>\n",
       "      <td>3</td>\n",
       "      <td>PROVINSI JAWA TENGAH</td>\n",
       "      <td>Purbalingga</td>\n",
       "      <td>7001430.00</td>\n",
       "      <td>3109.0</td>\n",
       "      <td>264533</td>\n",
       "      <td>85.086201</td>\n",
       "    </tr>\n",
       "    <tr>\n",
       "      <th>3</th>\n",
       "      <td>4</td>\n",
       "      <td>PROVINSI JAWA TENGAH</td>\n",
       "      <td>Banjarnegara</td>\n",
       "      <td>5626173.33</td>\n",
       "      <td>2695.0</td>\n",
       "      <td>206975</td>\n",
       "      <td>76.799629</td>\n",
       "    </tr>\n",
       "    <tr>\n",
       "      <th>4</th>\n",
       "      <td>5</td>\n",
       "      <td>PROVINSI JAWA TENGAH</td>\n",
       "      <td>Kebumen</td>\n",
       "      <td>8225939.13</td>\n",
       "      <td>5862.0</td>\n",
       "      <td>310512</td>\n",
       "      <td>52.970317</td>\n",
       "    </tr>\n",
       "    <tr>\n",
       "      <th>...</th>\n",
       "      <td>...</td>\n",
       "      <td>...</td>\n",
       "      <td>...</td>\n",
       "      <td>...</td>\n",
       "      <td>...</td>\n",
       "      <td>...</td>\n",
       "      <td>...</td>\n",
       "    </tr>\n",
       "    <tr>\n",
       "      <th>509</th>\n",
       "      <td>510</td>\n",
       "      <td>PROVINSI NUSA TENGGARA BARAT</td>\n",
       "      <td>Bima</td>\n",
       "      <td>2496071.74</td>\n",
       "      <td>181.0</td>\n",
       "      <td>34304</td>\n",
       "      <td>189.524862</td>\n",
       "    </tr>\n",
       "    <tr>\n",
       "      <th>510</th>\n",
       "      <td>511</td>\n",
       "      <td>PROVINSI NUSA TENGGARA BARAT</td>\n",
       "      <td>Sumbawa Barat</td>\n",
       "      <td>1341135.64</td>\n",
       "      <td>94.0</td>\n",
       "      <td>33681</td>\n",
       "      <td>358.308511</td>\n",
       "    </tr>\n",
       "    <tr>\n",
       "      <th>511</th>\n",
       "      <td>512</td>\n",
       "      <td>PROVINSI NUSA TENGGARA BARAT</td>\n",
       "      <td>Lombok Utara</td>\n",
       "      <td>1367569.95</td>\n",
       "      <td>165.0</td>\n",
       "      <td>33492</td>\n",
       "      <td>202.981818</td>\n",
       "    </tr>\n",
       "    <tr>\n",
       "      <th>512</th>\n",
       "      <td>513</td>\n",
       "      <td>PROVINSI NUSA TENGGARA BARAT</td>\n",
       "      <td>Kota Mataram</td>\n",
       "      <td>7762031.32</td>\n",
       "      <td>2346.0</td>\n",
       "      <td>402843</td>\n",
       "      <td>171.714834</td>\n",
       "    </tr>\n",
       "    <tr>\n",
       "      <th>513</th>\n",
       "      <td>514</td>\n",
       "      <td>PROVINSI NUSA TENGGARA BARAT</td>\n",
       "      <td>Kota Bima</td>\n",
       "      <td>1540890.00</td>\n",
       "      <td>700.0</td>\n",
       "      <td>112124</td>\n",
       "      <td>160.177143</td>\n",
       "    </tr>\n",
       "  </tbody>\n",
       "</table>\n",
       "<p>514 rows × 7 columns</p>\n",
       "</div>"
      ],
      "text/plain": [
       "      No                     Provinsi  Kota/Kabupaten  \\\n",
       "0      1          PROVINSI JAWA TENGAH        Cilacap   \n",
       "1      2          PROVINSI JAWA TENGAH       Banyumas   \n",
       "2      3          PROVINSI JAWA TENGAH    Purbalingga   \n",
       "3      4          PROVINSI JAWA TENGAH   Banjarnegara   \n",
       "4      5          PROVINSI JAWA TENGAH        Kebumen   \n",
       "..   ...                           ...            ...   \n",
       "509  510  PROVINSI NUSA TENGGARA BARAT           Bima   \n",
       "510  511  PROVINSI NUSA TENGGARA BARAT  Sumbawa Barat   \n",
       "511  512  PROVINSI NUSA TENGGARA BARAT   Lombok Utara   \n",
       "512  513  PROVINSI NUSA TENGGARA BARAT   Kota Mataram   \n",
       "513  514  PROVINSI NUSA TENGGARA BARAT      Kota Bima   \n",
       "\n",
       "     Total PDRB Perkotaan 2010 (Juta)  \\\n",
       "0                         67299331.32   \n",
       "1                         18226248.09   \n",
       "2                          7001430.00   \n",
       "3                          5626173.33   \n",
       "4                          8225939.13   \n",
       "..                                ...   \n",
       "509                        2496071.74   \n",
       "510                        1341135.64   \n",
       "511                        1367569.95   \n",
       "512                        7762031.32   \n",
       "513                        1540890.00   \n",
       "\n",
       "     Lahan Terbangun Perkotaan RBI 2010 (ha) Penduduk Perkotaan 2010 (Jiwa)  \\\n",
       "0                                     9198.0                         570632   \n",
       "1                                    10503.0                         807577   \n",
       "2                                     3109.0                         264533   \n",
       "3                                     2695.0                         206975   \n",
       "4                                     5862.0                         310512   \n",
       "..                                       ...                            ...   \n",
       "509                                    181.0                          34304   \n",
       "510                                     94.0                          33681   \n",
       "511                                    165.0                          33492   \n",
       "512                                   2346.0                         402843   \n",
       "513                                    700.0                         112124   \n",
       "\n",
       "     Kepadatan Penduduk 2010 (Jiwa/Ha)  \n",
       "0                            62.038704  \n",
       "1                            76.890127  \n",
       "2                            85.086201  \n",
       "3                            76.799629  \n",
       "4                            52.970317  \n",
       "..                                 ...  \n",
       "509                         189.524862  \n",
       "510                         358.308511  \n",
       "511                         202.981818  \n",
       "512                         171.714834  \n",
       "513                         160.177143  \n",
       "\n",
       "[514 rows x 7 columns]"
      ]
     },
     "execution_count": 3,
     "metadata": {},
     "output_type": "execute_result"
    }
   ],
   "source": [
    "dataframe"
   ]
  },
  {
   "cell_type": "code",
   "execution_count": 4,
   "id": "7b0b2c2d-d8eb-4a23-9763-6cf6a15b3f4b",
   "metadata": {},
   "outputs": [
    {
     "data": {
      "text/plain": [
       "No                                          0\n",
       "Provinsi                                    0\n",
       "Kota/Kabupaten                              0\n",
       "Total PDRB Perkotaan 2010 (Juta)            0\n",
       "Lahan Terbangun Perkotaan RBI 2010 (ha)     1\n",
       "Penduduk Perkotaan 2010 (Jiwa)              0\n",
       "Kepadatan Penduduk 2010 (Jiwa/Ha)          28\n",
       "dtype: int64"
      ]
     },
     "execution_count": 4,
     "metadata": {},
     "output_type": "execute_result"
    }
   ],
   "source": [
    "dataframe.isna().sum() #50"
   ]
  },
  {
   "cell_type": "code",
   "execution_count": 5,
   "id": "efee8066",
   "metadata": {},
   "outputs": [],
   "source": [
    "# dataframe = dataframe.drop('Unnamed: 7',axis = 1)\n",
    "# dataframe = dataframe.drop('Unnamed: 8',axis = 1)"
   ]
  },
  {
   "cell_type": "code",
   "execution_count": 6,
   "id": "13c09ed0-47f2-4313-8c40-14d168026e91",
   "metadata": {},
   "outputs": [
    {
     "name": "stderr",
     "output_type": "stream",
     "text": [
      "C:\\Users\\Acer\\AppData\\Local\\Temp\\ipykernel_22512\\1683120682.py:3: FutureWarning: The default value of numeric_only in DataFrame.mean is deprecated. In a future version, it will default to False. In addition, specifying 'numeric_only=None' is deprecated. Select only valid columns or specify the value of numeric_only to silence this warning.\n",
      "  dataframe = dataframe.fillna(dataframe.mean())\n"
     ]
    }
   ],
   "source": [
    "#dataframe = dataframe.dropna()\n",
    "# dataframe.isna().sum()\n",
    "dataframe = dataframe.fillna(dataframe.mean())"
   ]
  },
  {
   "cell_type": "code",
   "execution_count": 7,
   "id": "60ebf369",
   "metadata": {},
   "outputs": [
    {
     "name": "stdout",
     "output_type": "stream",
     "text": [
      "No                                         0\n",
      "Provinsi                                   0\n",
      "Kota/Kabupaten                             0\n",
      "Total PDRB Perkotaan 2010 (Juta)           0\n",
      "Lahan Terbangun Perkotaan RBI 2010 (ha)    0\n",
      "Penduduk Perkotaan 2010 (Jiwa)             0\n",
      "Kepadatan Penduduk 2010 (Jiwa/Ha)          0\n",
      "dtype: int64\n"
     ]
    },
    {
     "data": {
      "text/html": [
       "<div>\n",
       "<style scoped>\n",
       "    .dataframe tbody tr th:only-of-type {\n",
       "        vertical-align: middle;\n",
       "    }\n",
       "\n",
       "    .dataframe tbody tr th {\n",
       "        vertical-align: top;\n",
       "    }\n",
       "\n",
       "    .dataframe thead th {\n",
       "        text-align: right;\n",
       "    }\n",
       "</style>\n",
       "<table border=\"1\" class=\"dataframe\">\n",
       "  <thead>\n",
       "    <tr style=\"text-align: right;\">\n",
       "      <th></th>\n",
       "      <th>No</th>\n",
       "      <th>Provinsi</th>\n",
       "      <th>Kota/Kabupaten</th>\n",
       "      <th>Total PDRB Perkotaan 2010 (Juta)</th>\n",
       "      <th>Lahan Terbangun Perkotaan RBI 2010 (ha)</th>\n",
       "      <th>Penduduk Perkotaan 2010 (Jiwa)</th>\n",
       "      <th>Kepadatan Penduduk 2010 (Jiwa/Ha)</th>\n",
       "    </tr>\n",
       "  </thead>\n",
       "  <tbody>\n",
       "    <tr>\n",
       "      <th>0</th>\n",
       "      <td>1</td>\n",
       "      <td>PROVINSI JAWA TENGAH</td>\n",
       "      <td>Cilacap</td>\n",
       "      <td>67299331.32</td>\n",
       "      <td>9198.0</td>\n",
       "      <td>570632</td>\n",
       "      <td>62.038704</td>\n",
       "    </tr>\n",
       "    <tr>\n",
       "      <th>1</th>\n",
       "      <td>2</td>\n",
       "      <td>PROVINSI JAWA TENGAH</td>\n",
       "      <td>Banyumas</td>\n",
       "      <td>18226248.09</td>\n",
       "      <td>10503.0</td>\n",
       "      <td>807577</td>\n",
       "      <td>76.890127</td>\n",
       "    </tr>\n",
       "    <tr>\n",
       "      <th>2</th>\n",
       "      <td>3</td>\n",
       "      <td>PROVINSI JAWA TENGAH</td>\n",
       "      <td>Purbalingga</td>\n",
       "      <td>7001430.00</td>\n",
       "      <td>3109.0</td>\n",
       "      <td>264533</td>\n",
       "      <td>85.086201</td>\n",
       "    </tr>\n",
       "    <tr>\n",
       "      <th>3</th>\n",
       "      <td>4</td>\n",
       "      <td>PROVINSI JAWA TENGAH</td>\n",
       "      <td>Banjarnegara</td>\n",
       "      <td>5626173.33</td>\n",
       "      <td>2695.0</td>\n",
       "      <td>206975</td>\n",
       "      <td>76.799629</td>\n",
       "    </tr>\n",
       "    <tr>\n",
       "      <th>4</th>\n",
       "      <td>5</td>\n",
       "      <td>PROVINSI JAWA TENGAH</td>\n",
       "      <td>Kebumen</td>\n",
       "      <td>8225939.13</td>\n",
       "      <td>5862.0</td>\n",
       "      <td>310512</td>\n",
       "      <td>52.970317</td>\n",
       "    </tr>\n",
       "    <tr>\n",
       "      <th>...</th>\n",
       "      <td>...</td>\n",
       "      <td>...</td>\n",
       "      <td>...</td>\n",
       "      <td>...</td>\n",
       "      <td>...</td>\n",
       "      <td>...</td>\n",
       "      <td>...</td>\n",
       "    </tr>\n",
       "    <tr>\n",
       "      <th>509</th>\n",
       "      <td>510</td>\n",
       "      <td>PROVINSI NUSA TENGGARA BARAT</td>\n",
       "      <td>Bima</td>\n",
       "      <td>2496071.74</td>\n",
       "      <td>181.0</td>\n",
       "      <td>34304</td>\n",
       "      <td>189.524862</td>\n",
       "    </tr>\n",
       "    <tr>\n",
       "      <th>510</th>\n",
       "      <td>511</td>\n",
       "      <td>PROVINSI NUSA TENGGARA BARAT</td>\n",
       "      <td>Sumbawa Barat</td>\n",
       "      <td>1341135.64</td>\n",
       "      <td>94.0</td>\n",
       "      <td>33681</td>\n",
       "      <td>358.308511</td>\n",
       "    </tr>\n",
       "    <tr>\n",
       "      <th>511</th>\n",
       "      <td>512</td>\n",
       "      <td>PROVINSI NUSA TENGGARA BARAT</td>\n",
       "      <td>Lombok Utara</td>\n",
       "      <td>1367569.95</td>\n",
       "      <td>165.0</td>\n",
       "      <td>33492</td>\n",
       "      <td>202.981818</td>\n",
       "    </tr>\n",
       "    <tr>\n",
       "      <th>512</th>\n",
       "      <td>513</td>\n",
       "      <td>PROVINSI NUSA TENGGARA BARAT</td>\n",
       "      <td>Kota Mataram</td>\n",
       "      <td>7762031.32</td>\n",
       "      <td>2346.0</td>\n",
       "      <td>402843</td>\n",
       "      <td>171.714834</td>\n",
       "    </tr>\n",
       "    <tr>\n",
       "      <th>513</th>\n",
       "      <td>514</td>\n",
       "      <td>PROVINSI NUSA TENGGARA BARAT</td>\n",
       "      <td>Kota Bima</td>\n",
       "      <td>1540890.00</td>\n",
       "      <td>700.0</td>\n",
       "      <td>112124</td>\n",
       "      <td>160.177143</td>\n",
       "    </tr>\n",
       "  </tbody>\n",
       "</table>\n",
       "<p>514 rows × 7 columns</p>\n",
       "</div>"
      ],
      "text/plain": [
       "      No                     Provinsi  Kota/Kabupaten  \\\n",
       "0      1          PROVINSI JAWA TENGAH        Cilacap   \n",
       "1      2          PROVINSI JAWA TENGAH       Banyumas   \n",
       "2      3          PROVINSI JAWA TENGAH    Purbalingga   \n",
       "3      4          PROVINSI JAWA TENGAH   Banjarnegara   \n",
       "4      5          PROVINSI JAWA TENGAH        Kebumen   \n",
       "..   ...                           ...            ...   \n",
       "509  510  PROVINSI NUSA TENGGARA BARAT           Bima   \n",
       "510  511  PROVINSI NUSA TENGGARA BARAT  Sumbawa Barat   \n",
       "511  512  PROVINSI NUSA TENGGARA BARAT   Lombok Utara   \n",
       "512  513  PROVINSI NUSA TENGGARA BARAT   Kota Mataram   \n",
       "513  514  PROVINSI NUSA TENGGARA BARAT      Kota Bima   \n",
       "\n",
       "     Total PDRB Perkotaan 2010 (Juta)  \\\n",
       "0                         67299331.32   \n",
       "1                         18226248.09   \n",
       "2                          7001430.00   \n",
       "3                          5626173.33   \n",
       "4                          8225939.13   \n",
       "..                                ...   \n",
       "509                        2496071.74   \n",
       "510                        1341135.64   \n",
       "511                        1367569.95   \n",
       "512                        7762031.32   \n",
       "513                        1540890.00   \n",
       "\n",
       "     Lahan Terbangun Perkotaan RBI 2010 (ha) Penduduk Perkotaan 2010 (Jiwa)  \\\n",
       "0                                     9198.0                         570632   \n",
       "1                                    10503.0                         807577   \n",
       "2                                     3109.0                         264533   \n",
       "3                                     2695.0                         206975   \n",
       "4                                     5862.0                         310512   \n",
       "..                                       ...                            ...   \n",
       "509                                    181.0                          34304   \n",
       "510                                     94.0                          33681   \n",
       "511                                    165.0                          33492   \n",
       "512                                   2346.0                         402843   \n",
       "513                                    700.0                         112124   \n",
       "\n",
       "     Kepadatan Penduduk 2010 (Jiwa/Ha)  \n",
       "0                            62.038704  \n",
       "1                            76.890127  \n",
       "2                            85.086201  \n",
       "3                            76.799629  \n",
       "4                            52.970317  \n",
       "..                                 ...  \n",
       "509                         189.524862  \n",
       "510                         358.308511  \n",
       "511                         202.981818  \n",
       "512                         171.714834  \n",
       "513                         160.177143  \n",
       "\n",
       "[514 rows x 7 columns]"
      ]
     },
     "execution_count": 7,
     "metadata": {},
     "output_type": "execute_result"
    }
   ],
   "source": [
    "print(dataframe.isna().sum())\n",
    "dataframe"
   ]
  },
  {
   "cell_type": "code",
   "execution_count": 14,
   "id": "16c279ce-8d74-44d4-8020-363cfa58611c",
   "metadata": {},
   "outputs": [
    {
     "name": "stdout",
     "output_type": "stream",
     "text": [
      "1\n",
      "1\n",
      "514\n"
     ]
    }
   ],
   "source": [
    "n_dependent_var = 1#: banyak dependent variabel  \n",
    "n_independent_var = 1#: banyak independent variabel \n",
    "n_row = len(dataframe)  #banyak per kolom (banyak baris)\n",
    "\n",
    "start_indexing_dependent_var = 4\n",
    "start_indexing_independent_var = 3\n",
    "\n",
    "# df_dependent = dataframe.iloc[:,3]\n",
    "# df_independent = dataframe.iloc[:,4:]\n",
    "\n",
    "df_dependent = dataframe.iloc[:,start_indexing_dependent_var]\n",
    "df_independent = dataframe.iloc[:,start_indexing_independent_var]\n",
    "\n",
    "print(n_dependent_var)\n",
    "print(n_independent_var)\n",
    "print(n_row)"
   ]
  },
  {
   "cell_type": "code",
   "execution_count": 15,
   "id": "606b8c94",
   "metadata": {},
   "outputs": [
    {
     "data": {
      "text/plain": [
       "0      67299331.32\n",
       "1      18226248.09\n",
       "2       7001430.00\n",
       "3       5626173.33\n",
       "4       8225939.13\n",
       "          ...     \n",
       "509     2496071.74\n",
       "510     1341135.64\n",
       "511     1367569.95\n",
       "512     7762031.32\n",
       "513     1540890.00\n",
       "Name: Total PDRB Perkotaan 2010 (Juta), Length: 514, dtype: float64"
      ]
     },
     "execution_count": 15,
     "metadata": {},
     "output_type": "execute_result"
    }
   ],
   "source": [
    "df_independent"
   ]
  },
  {
   "cell_type": "code",
   "execution_count": 16,
   "id": "497f6e13",
   "metadata": {},
   "outputs": [
    {
     "data": {
      "text/plain": [
       "0       62.038704\n",
       "1       76.890127\n",
       "2       85.086201\n",
       "3       76.799629\n",
       "4       52.970317\n",
       "          ...    \n",
       "509    189.524862\n",
       "510    358.308511\n",
       "511    202.981818\n",
       "512    171.714834\n",
       "513    160.177143\n",
       "Name: Kepadatan Penduduk 2010 (Jiwa/Ha), Length: 514, dtype: float64"
      ]
     },
     "execution_count": 16,
     "metadata": {},
     "output_type": "execute_result"
    }
   ],
   "source": [
    "df_dependent"
   ]
  },
  {
   "cell_type": "code",
   "execution_count": 17,
   "id": "9ffbe172",
   "metadata": {},
   "outputs": [
    {
     "data": {
      "text/plain": [
       "array([[0.]])"
      ]
     },
     "execution_count": 17,
     "metadata": {},
     "output_type": "execute_result"
    }
   ],
   "source": [
    "np.zeros(shape=(n_dependent_var,n_independent_var))"
   ]
  },
  {
   "cell_type": "code",
   "execution_count": 19,
   "id": "3ce272bb",
   "metadata": {},
   "outputs": [
    {
     "ename": "IndexingError",
     "evalue": "Too many indexers",
     "output_type": "error",
     "traceback": [
      "\u001b[1;31m---------------------------------------------------------------------------\u001b[0m",
      "\u001b[1;31mIndexingError\u001b[0m                             Traceback (most recent call last)",
      "\u001b[1;32md:\\VariablesWeightPipik-main\\Statistika.ipynb Cell 12\u001b[0m line \u001b[0;36m1\n\u001b[0;32m     <a href='vscode-notebook-cell:/d%3A/VariablesWeightPipik-main/Statistika.ipynb#X14sZmlsZQ%3D%3D?line=12'>13</a>\u001b[0m x \u001b[39m=\u001b[39m dataframe_independent_temp\u001b[39m.\u001b[39mvalues\n\u001b[0;32m     <a href='vscode-notebook-cell:/d%3A/VariablesWeightPipik-main/Statistika.ipynb#X14sZmlsZQ%3D%3D?line=14'>15</a>\u001b[0m \u001b[39m#dataframe_dependent_temp = dataframe.iloc[:,i+start_indexing_dependent_var] #(ngambil nilai dataframe dependent mulai dari area square dan iterating ke bawah)\u001b[39;00m\n\u001b[1;32m---> <a href='vscode-notebook-cell:/d%3A/VariablesWeightPipik-main/Statistika.ipynb#X14sZmlsZQ%3D%3D?line=15'>16</a>\u001b[0m dataframe_dependent_temp \u001b[39m=\u001b[39m df_dependent\u001b[39m.\u001b[39miloc[:,i] \u001b[39m#dataframe.iloc[:,j] #(ngambil nilai dataframe dependent mulai dari area square dan iterating ke bawah)\u001b[39;00m\n\u001b[0;32m     <a href='vscode-notebook-cell:/d%3A/VariablesWeightPipik-main/Statistika.ipynb#X14sZmlsZQ%3D%3D?line=16'>17</a>\u001b[0m y \u001b[39m=\u001b[39m dataframe_dependent_temp\u001b[39m.\u001b[39mvalues\n\u001b[0;32m     <a href='vscode-notebook-cell:/d%3A/VariablesWeightPipik-main/Statistika.ipynb#X14sZmlsZQ%3D%3D?line=18'>19</a>\u001b[0m df \u001b[39m=\u001b[39m pd\u001b[39m.\u001b[39mDataFrame({\u001b[39m\"\u001b[39m\u001b[39mX\u001b[39m\u001b[39m\"\u001b[39m : x, \u001b[39m\"\u001b[39m\u001b[39mY\u001b[39m\u001b[39m\"\u001b[39m : y}) \u001b[39m#mbuat kolom baru dan sekalian ngeplotin nilainya setiap iterasi variabel independent terhadap\u001b[39;00m\n",
      "File \u001b[1;32mc:\\Users\\Acer\\AppData\\Local\\Programs\\Python\\Python38\\lib\\site-packages\\pandas\\core\\indexing.py:1068\u001b[0m, in \u001b[0;36m_LocationIndexer.__getitem__\u001b[1;34m(self, key)\u001b[0m\n\u001b[0;32m   1066\u001b[0m     \u001b[39mif\u001b[39;00m \u001b[39mself\u001b[39m\u001b[39m.\u001b[39m_is_scalar_access(key):\n\u001b[0;32m   1067\u001b[0m         \u001b[39mreturn\u001b[39;00m \u001b[39mself\u001b[39m\u001b[39m.\u001b[39mobj\u001b[39m.\u001b[39m_get_value(\u001b[39m*\u001b[39mkey, takeable\u001b[39m=\u001b[39m\u001b[39mself\u001b[39m\u001b[39m.\u001b[39m_takeable)\n\u001b[1;32m-> 1068\u001b[0m     \u001b[39mreturn\u001b[39;00m \u001b[39mself\u001b[39;49m\u001b[39m.\u001b[39;49m_getitem_tuple(key)\n\u001b[0;32m   1069\u001b[0m \u001b[39melse\u001b[39;00m:\n\u001b[0;32m   1070\u001b[0m     \u001b[39m# we by definition only have the 0th axis\u001b[39;00m\n\u001b[0;32m   1071\u001b[0m     axis \u001b[39m=\u001b[39m \u001b[39mself\u001b[39m\u001b[39m.\u001b[39maxis \u001b[39mor\u001b[39;00m \u001b[39m0\u001b[39m\n",
      "File \u001b[1;32mc:\\Users\\Acer\\AppData\\Local\\Programs\\Python\\Python38\\lib\\site-packages\\pandas\\core\\indexing.py:1564\u001b[0m, in \u001b[0;36m_iLocIndexer._getitem_tuple\u001b[1;34m(self, tup)\u001b[0m\n\u001b[0;32m   1562\u001b[0m \u001b[39mdef\u001b[39;00m \u001b[39m_getitem_tuple\u001b[39m(\u001b[39mself\u001b[39m, tup: \u001b[39mtuple\u001b[39m):\n\u001b[1;32m-> 1564\u001b[0m     tup \u001b[39m=\u001b[39m \u001b[39mself\u001b[39;49m\u001b[39m.\u001b[39;49m_validate_tuple_indexer(tup)\n\u001b[0;32m   1565\u001b[0m     \u001b[39mwith\u001b[39;00m suppress(IndexingError):\n\u001b[0;32m   1566\u001b[0m         \u001b[39mreturn\u001b[39;00m \u001b[39mself\u001b[39m\u001b[39m.\u001b[39m_getitem_lowerdim(tup)\n",
      "File \u001b[1;32mc:\\Users\\Acer\\AppData\\Local\\Programs\\Python\\Python38\\lib\\site-packages\\pandas\\core\\indexing.py:870\u001b[0m, in \u001b[0;36m_LocationIndexer._validate_tuple_indexer\u001b[1;34m(self, key)\u001b[0m\n\u001b[0;32m    865\u001b[0m \u001b[39m@final\u001b[39m\n\u001b[0;32m    866\u001b[0m \u001b[39mdef\u001b[39;00m \u001b[39m_validate_tuple_indexer\u001b[39m(\u001b[39mself\u001b[39m, key: \u001b[39mtuple\u001b[39m) \u001b[39m-\u001b[39m\u001b[39m>\u001b[39m \u001b[39mtuple\u001b[39m:\n\u001b[0;32m    867\u001b[0m     \u001b[39m\"\"\"\u001b[39;00m\n\u001b[0;32m    868\u001b[0m \u001b[39m    Check the key for valid keys across my indexer.\u001b[39;00m\n\u001b[0;32m    869\u001b[0m \u001b[39m    \"\"\"\u001b[39;00m\n\u001b[1;32m--> 870\u001b[0m     key \u001b[39m=\u001b[39m \u001b[39mself\u001b[39;49m\u001b[39m.\u001b[39;49m_validate_key_length(key)\n\u001b[0;32m    871\u001b[0m     key \u001b[39m=\u001b[39m \u001b[39mself\u001b[39m\u001b[39m.\u001b[39m_expand_ellipsis(key)\n\u001b[0;32m    872\u001b[0m     \u001b[39mfor\u001b[39;00m i, k \u001b[39min\u001b[39;00m \u001b[39menumerate\u001b[39m(key):\n",
      "File \u001b[1;32mc:\\Users\\Acer\\AppData\\Local\\Programs\\Python\\Python38\\lib\\site-packages\\pandas\\core\\indexing.py:909\u001b[0m, in \u001b[0;36m_LocationIndexer._validate_key_length\u001b[1;34m(self, key)\u001b[0m\n\u001b[0;32m    907\u001b[0m             \u001b[39mraise\u001b[39;00m IndexingError(_one_ellipsis_message)\n\u001b[0;32m    908\u001b[0m         \u001b[39mreturn\u001b[39;00m \u001b[39mself\u001b[39m\u001b[39m.\u001b[39m_validate_key_length(key)\n\u001b[1;32m--> 909\u001b[0m     \u001b[39mraise\u001b[39;00m IndexingError(\u001b[39m\"\u001b[39m\u001b[39mToo many indexers\u001b[39m\u001b[39m\"\u001b[39m)\n\u001b[0;32m    910\u001b[0m \u001b[39mreturn\u001b[39;00m key\n",
      "\u001b[1;31mIndexingError\u001b[0m: Too many indexers"
     ]
    }
   ],
   "source": [
    "total_pembilang = 0\n",
    "total_penyebut = 0 #inisialisasi variabel buat dipake nanti\n",
    "list_of_coefficient = np.zeros(shape=(n_dependent_var,n_independent_var)) #buat container untuk ngestore nilai nilai weight (total ada 116 nilai weight)\n",
    "    \n",
    "for j in range(n_dependent_var):\n",
    "    for i in range(n_independent_var):\n",
    "        \n",
    "        dataframe_independent_temp = 0\n",
    "        dataframe_dependent_temp = 0\n",
    "        \n",
    "        #dataframe_independent_temp = dataframe.iloc[:,i+start_indexing_independent_var] #(ngambil nilai dataframe independent mulai dari area square dan iterating ke bawah)\n",
    "        dataframe_independent_temp = df_independent  #(ngambil nilai dataframe independent mulai dari area square dan iterating ke bawah)\n",
    "        x = dataframe_independent_temp.values\n",
    "        \n",
    "        #dataframe_dependent_temp = dataframe.iloc[:,i+start_indexing_dependent_var] #(ngambil nilai dataframe dependent mulai dari area square dan iterating ke bawah)\n",
    "        dataframe_dependent_temp = df_dependent.iloc[:,i] #dataframe.iloc[:,j] #(ngambil nilai dataframe dependent mulai dari area square dan iterating ke bawah)\n",
    "        y = dataframe_dependent_temp.values\n",
    "        \n",
    "        df = pd.DataFrame({\"X\" : x, \"Y\" : y}) #mbuat kolom baru dan sekalian ngeplotin nilainya setiap iterasi variabel independent terhadap\n",
    "        #salah satu variabel bebas(29*4 kali)\n",
    "        \n",
    "        df[\"rank_x\"] = df[\"X\"].rank()\n",
    "        df[\"rank_y\"] = df[\"Y\"].rank()\n",
    "        df[\"rank_y_invert\"] = df[\"Y\"].rank(method = \"max\",axis = 0) #rumus dari youtube + jurnal yg disend pipik\n",
    "        \n",
    "        df = df.sort_values(by=\"rank_x\")\n",
    "#         total_pembilang = df['rank_y'].diff().abs().sum()\n",
    "        \n",
    "        for a in range(n_row-1):\n",
    "            total_pembilang = total_pembilang + (abs(df[\"rank_y\"][a+1] - df[\"rank_y\"][a]))\n",
    "        for e in range(n_row):\n",
    "            total_penyebut = total_penyebut + df[\"rank_y_invert\"][e] * (n_row - df[\"rank_y_invert\"][e])\n",
    "        total_pembilang = total_pembilang * n_row\n",
    "        total_penyebut = total_penyebut * 2\n",
    "        coefficient =  1 - ((total_pembilang) / total_penyebut )\n",
    "        list_of_coefficient[j][i] = coefficient\n",
    "\n",
    "print(total_pembilang)\n",
    "print(total_penyebut)"
   ]
  },
  {
   "cell_type": "code",
   "execution_count": null,
   "id": "648a7edc",
   "metadata": {},
   "outputs": [],
   "source": [
    "print(list_of_coefficient)\n",
    "#print(list_of_coefficient[0][1])\n",
    "print(np.where(list_of_coefficient > -1.0, list_of_coefficient, 0))\n",
    "# list_of_coefficient = np.where(list_of_coefficient > -1, list_of_coefficient, 0)"
   ]
  },
  {
   "cell_type": "code",
   "execution_count": null,
   "id": "a45810c0",
   "metadata": {},
   "outputs": [],
   "source": [
    "dataframe"
   ]
  },
  {
   "cell_type": "code",
   "execution_count": null,
   "id": "b43ae7bd-ef68-4b80-8214-48167765cd6e",
   "metadata": {},
   "outputs": [],
   "source": [
    "table = dataframe\n",
    "table = table[:n_dependent_var]\n",
    "table = table.drop('No',axis=1)\n",
    "table = table.drop('Provinsi ',axis=1)\n",
    "table = table.drop(list(table)[0],axis=1) #kota kabupaten\n",
    "list(table)"
   ]
  },
  {
   "cell_type": "code",
   "execution_count": null,
   "id": "bfd7d736",
   "metadata": {},
   "outputs": [],
   "source": [
    "table.index = [list(table)[0]]\n",
    "table = table.drop(list(table)[0],axis=1) #kota kabupaten\n",
    "table  "
   ]
  },
  {
   "cell_type": "code",
   "execution_count": null,
   "id": "d5bc0a14",
   "metadata": {},
   "outputs": [],
   "source": [
    "list(table)"
   ]
  },
  {
   "cell_type": "code",
   "execution_count": null,
   "id": "5d937c02",
   "metadata": {},
   "outputs": [],
   "source": [
    "table = table.drop(list(table)[3],axis=1)\n",
    "table = table.drop(list(table)[1],axis=1)\n",
    "table = table.drop(list(table)[1],axis=1)\n",
    "list(table)"
   ]
  },
  {
   "cell_type": "code",
   "execution_count": null,
   "id": "be3e3448",
   "metadata": {},
   "outputs": [],
   "source": [
    "for j in range(n_dependent_var): \n",
    "    for i in range(n_independent_var):\n",
    "        table.iloc[j,i] = list_of_coefficient[j,i]"
   ]
  },
  {
   "cell_type": "code",
   "execution_count": null,
   "id": "4a05be29",
   "metadata": {},
   "outputs": [],
   "source": [
    "table"
   ]
  },
  {
   "cell_type": "code",
   "execution_count": null,
   "id": "e4d50781",
   "metadata": {},
   "outputs": [],
   "source": [
    "# for j in range(n_dependent_var): \n",
    "#     for i in range(n_independent_var):\n",
    "#         table.iloc[j,start_indexing_independent_var] = list_of_coefficient[j,i]"
   ]
  },
  {
   "cell_type": "code",
   "execution_count": null,
   "id": "b00ad2d2",
   "metadata": {},
   "outputs": [],
   "source": [
    "list(table)"
   ]
  },
  {
   "cell_type": "code",
   "execution_count": null,
   "id": "500ef617",
   "metadata": {},
   "outputs": [],
   "source": [
    "img_table = table.to_excel('PDRB Perkotaan 2010, LT, PDD XY2.xlsx')"
   ]
  },
  {
   "cell_type": "code",
   "execution_count": null,
   "id": "0269456c",
   "metadata": {},
   "outputs": [],
   "source": [
    "x = data_independent.values\n",
    "print(x) //udah"
   ]
  },
  {
   "cell_type": "code",
   "execution_count": null,
   "id": "1ece4bdb",
   "metadata": {},
   "outputs": [],
   "source": [
    "df_dependent"
   ]
  },
  {
   "cell_type": "code",
   "execution_count": null,
   "id": "a5c90ef2",
   "metadata": {},
   "outputs": [],
   "source": [
    "df_dependent.iloc[:,3] //udah"
   ]
  },
  {
   "cell_type": "code",
   "execution_count": null,
   "id": "458e1c34",
   "metadata": {},
   "outputs": [],
   "source": [
    "y = dataframe_dependent.values //udah"
   ]
  },
  {
   "cell_type": "code",
   "execution_count": null,
   "id": "c747b820",
   "metadata": {},
   "outputs": [],
   "source": [
    "dataframe_dependent.shape"
   ]
  },
  {
   "cell_type": "code",
   "execution_count": null,
   "id": "c1540323",
   "metadata": {},
   "outputs": [],
   "source": [
    "n = dataframe_dependent.shape[0]\n",
    "print(n)"
   ]
  },
  {
   "cell_type": "code",
   "execution_count": null,
   "id": "ac4df71d",
   "metadata": {},
   "outputs": [],
   "source": [
    "x"
   ]
  },
  {
   "cell_type": "code",
   "execution_count": null,
   "id": "e67d5e0d",
   "metadata": {},
   "outputs": [],
   "source": [
    "plt.scatter(x,y)"
   ]
  },
  {
   "cell_type": "code",
   "execution_count": null,
   "id": "c88f32b2",
   "metadata": {},
   "outputs": [],
   "source": [
    "df = pd.DataFrame({\"X\" : x, \"Y\" : y})"
   ]
  },
  {
   "cell_type": "code",
   "execution_count": null,
   "id": "0cefa05d",
   "metadata": {},
   "outputs": [],
   "source": [
    "df"
   ]
  },
  {
   "cell_type": "code",
   "execution_count": null,
   "id": "4c7deaaf",
   "metadata": {},
   "outputs": [],
   "source": [
    "df[\"rank_x\"] = df[\"X\"].rank()"
   ]
  },
  {
   "cell_type": "code",
   "execution_count": null,
   "id": "51f4be54",
   "metadata": {},
   "outputs": [],
   "source": [
    "df.head(3)"
   ]
  },
  {
   "cell_type": "code",
   "execution_count": null,
   "id": "c7f8054b",
   "metadata": {},
   "outputs": [],
   "source": [
    "df[\"rank_x\"].min()"
   ]
  },
  {
   "cell_type": "code",
   "execution_count": null,
   "id": "3dbf8790",
   "metadata": {},
   "outputs": [],
   "source": [
    "df[\"rank_x\"].max()"
   ]
  },
  {
   "cell_type": "code",
   "execution_count": null,
   "id": "fe867289",
   "metadata": {},
   "outputs": [],
   "source": [
    "df[\"rank_y\"] = df[\"Y\"].rank()"
   ]
  },
  {
   "cell_type": "code",
   "execution_count": null,
   "id": "61019e4d",
   "metadata": {},
   "outputs": [],
   "source": [
    "df = df.sort_values(by=\"rank_x\")"
   ]
  },
  {
   "cell_type": "code",
   "execution_count": null,
   "id": "d68f670d",
   "metadata": {},
   "outputs": [],
   "source": [
    "df"
   ]
  },
  {
   "cell_type": "code",
   "execution_count": null,
   "id": "15efef1a",
   "metadata": {},
   "outputs": [],
   "source": [
    "total = df['rank_y'].diff().abs().sum()"
   ]
  },
  {
   "cell_type": "code",
   "execution_count": null,
   "id": "39a15c85",
   "metadata": {},
   "outputs": [],
   "source": [
    "total"
   ]
  },
  {
   "cell_type": "code",
   "execution_count": null,
   "id": "709af0de",
   "metadata": {},
   "outputs": [],
   "source": [
    "coefficient =  1 - ((3*total) / (pow(n,2) - 1))"
   ]
  },
  {
   "cell_type": "code",
   "execution_count": null,
   "id": "7711e2cb",
   "metadata": {},
   "outputs": [],
   "source": [
    "coefficient"
   ]
  },
  {
   "cell_type": "code",
   "execution_count": null,
   "id": "7fd5c8af",
   "metadata": {},
   "outputs": [],
   "source": []
  }
 ],
 "metadata": {
  "kernelspec": {
   "display_name": "Python 3 (ipykernel)",
   "language": "python",
   "name": "python3"
  },
  "language_info": {
   "codemirror_mode": {
    "name": "ipython",
    "version": 3
   },
   "file_extension": ".py",
   "mimetype": "text/x-python",
   "name": "python",
   "nbconvert_exporter": "python",
   "pygments_lexer": "ipython3",
   "version": "3.8.5"
  }
 },
 "nbformat": 4,
 "nbformat_minor": 5
}
