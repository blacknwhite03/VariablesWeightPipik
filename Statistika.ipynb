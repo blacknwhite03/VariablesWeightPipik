{
 "cells": [
  {
   "cell_type": "code",
   "execution_count": 35,
   "id": "cd93bf96",
   "metadata": {},
   "outputs": [],
   "source": [
    "import pandas as pd\n",
    "import matplotlib.pyplot as plt\n",
    "import numpy as np"
   ]
  },
  {
   "cell_type": "code",
   "execution_count": 36,
   "id": "f387d2be",
   "metadata": {},
   "outputs": [],
   "source": [
    "\"D:/pythonprojects/VariablesWeightPipik\"\n",
    "filename_ = \"Peningk Produktivitas, Efisiens.xlsx\"\n",
    "path_laptop = \"C:/Users/pc/Documents/pythonProjects/VariablesWeightPipik-main/\"\n",
    "dataframe = pd.read_excel(path_laptop + filename_)\n",
    "# dependent = pd.read_excel(r\"D:/pythonprojects/VariablesWeightPipik/dependent.xlsx\")\n",
    "# independent = pd.read_excel(r\"D:/pythonprojects/VariablesWeightPipik/independent.xlsx\")"
   ]
  },
  {
   "cell_type": "code",
   "execution_count": 37,
   "id": "d0e87c56",
   "metadata": {},
   "outputs": [
    {
     "data": {
      "text/html": [
       "<div>\n",
       "<style scoped>\n",
       "    .dataframe tbody tr th:only-of-type {\n",
       "        vertical-align: middle;\n",
       "    }\n",
       "\n",
       "    .dataframe tbody tr th {\n",
       "        vertical-align: top;\n",
       "    }\n",
       "\n",
       "    .dataframe thead th {\n",
       "        text-align: right;\n",
       "    }\n",
       "</style>\n",
       "<table border=\"1\" class=\"dataframe\">\n",
       "  <thead>\n",
       "    <tr style=\"text-align: right;\">\n",
       "      <th></th>\n",
       "      <th>No</th>\n",
       "      <th>Provinsi</th>\n",
       "      <th>Kota/Kabupaten</th>\n",
       "      <th>Selisih Produktivitas Sktor Perkotaan (Rp/Ha)</th>\n",
       "      <th>Efisiensi Penduduk (Penamb 1 Ha&gt;Penamb Jiwa)</th>\n",
       "      <th>Efsiensi Ekonomi (Penambahan 1 Ha&gt;Penamb Juta)</th>\n",
       "    </tr>\n",
       "  </thead>\n",
       "  <tbody>\n",
       "    <tr>\n",
       "      <th>0</th>\n",
       "      <td>1</td>\n",
       "      <td>PROVINSI JAWA TENGAH</td>\n",
       "      <td>Cilacap</td>\n",
       "      <td>-4257.069468</td>\n",
       "      <td>12.485908</td>\n",
       "      <td>770.078362</td>\n",
       "    </tr>\n",
       "    <tr>\n",
       "      <th>1</th>\n",
       "      <td>2</td>\n",
       "      <td>PROVINSI JAWA TENGAH</td>\n",
       "      <td>Banyumas</td>\n",
       "      <td>-477.928505</td>\n",
       "      <td>13.871314</td>\n",
       "      <td>932.804393</td>\n",
       "    </tr>\n",
       "    <tr>\n",
       "      <th>2</th>\n",
       "      <td>3</td>\n",
       "      <td>PROVINSI JAWA TENGAH</td>\n",
       "      <td>Purbalingga</td>\n",
       "      <td>-1011.715732</td>\n",
       "      <td>15.441474</td>\n",
       "      <td>765.204199</td>\n",
       "    </tr>\n",
       "    <tr>\n",
       "      <th>3</th>\n",
       "      <td>4</td>\n",
       "      <td>PROVINSI JAWA TENGAH</td>\n",
       "      <td>Banjarnegara</td>\n",
       "      <td>-678.773717</td>\n",
       "      <td>21.380952</td>\n",
       "      <td>983.936787</td>\n",
       "    </tr>\n",
       "    <tr>\n",
       "      <th>4</th>\n",
       "      <td>5</td>\n",
       "      <td>PROVINSI JAWA TENGAH</td>\n",
       "      <td>Kebumen</td>\n",
       "      <td>-637.343199</td>\n",
       "      <td>9.524475</td>\n",
       "      <td>483.695898</td>\n",
       "    </tr>\n",
       "    <tr>\n",
       "      <th>...</th>\n",
       "      <td>...</td>\n",
       "      <td>...</td>\n",
       "      <td>...</td>\n",
       "      <td>...</td>\n",
       "      <td>...</td>\n",
       "      <td>...</td>\n",
       "    </tr>\n",
       "    <tr>\n",
       "      <th>509</th>\n",
       "      <td>510</td>\n",
       "      <td>PROVINSI NUSA TENGGARA BARAT</td>\n",
       "      <td>Bima</td>\n",
       "      <td>-7120.921404</td>\n",
       "      <td>106.557920</td>\n",
       "      <td>3622.516548</td>\n",
       "    </tr>\n",
       "    <tr>\n",
       "      <th>510</th>\n",
       "      <td>511</td>\n",
       "      <td>PROVINSI NUSA TENGGARA BARAT</td>\n",
       "      <td>Sumbawa Barat</td>\n",
       "      <td>-9060.486101</td>\n",
       "      <td>65.843137</td>\n",
       "      <td>2423.627745</td>\n",
       "    </tr>\n",
       "    <tr>\n",
       "      <th>511</th>\n",
       "      <td>512</td>\n",
       "      <td>PROVINSI NUSA TENGGARA BARAT</td>\n",
       "      <td>Lombok Utara</td>\n",
       "      <td>-5126.169394</td>\n",
       "      <td>61.606897</td>\n",
       "      <td>1217.724253</td>\n",
       "    </tr>\n",
       "    <tr>\n",
       "      <th>512</th>\n",
       "      <td>513</td>\n",
       "      <td>PROVINSI NUSA TENGGARA BARAT</td>\n",
       "      <td>Kota Mataram</td>\n",
       "      <td>614.653155</td>\n",
       "      <td>31.391101</td>\n",
       "      <td>5611.773747</td>\n",
       "    </tr>\n",
       "    <tr>\n",
       "      <th>513</th>\n",
       "      <td>514</td>\n",
       "      <td>PROVINSI NUSA TENGGARA BARAT</td>\n",
       "      <td>Kota Bima</td>\n",
       "      <td>384.475940</td>\n",
       "      <td>86.924000</td>\n",
       "      <td>3662.280000</td>\n",
       "    </tr>\n",
       "  </tbody>\n",
       "</table>\n",
       "<p>514 rows × 6 columns</p>\n",
       "</div>"
      ],
      "text/plain": [
       "      No                     Provinsi  Kota/Kabupaten  \\\n",
       "0      1          PROVINSI JAWA TENGAH        Cilacap   \n",
       "1      2          PROVINSI JAWA TENGAH       Banyumas   \n",
       "2      3          PROVINSI JAWA TENGAH    Purbalingga   \n",
       "3      4          PROVINSI JAWA TENGAH   Banjarnegara   \n",
       "4      5          PROVINSI JAWA TENGAH        Kebumen   \n",
       "..   ...                           ...            ...   \n",
       "509  510  PROVINSI NUSA TENGGARA BARAT           Bima   \n",
       "510  511  PROVINSI NUSA TENGGARA BARAT  Sumbawa Barat   \n",
       "511  512  PROVINSI NUSA TENGGARA BARAT   Lombok Utara   \n",
       "512  513  PROVINSI NUSA TENGGARA BARAT   Kota Mataram   \n",
       "513  514  PROVINSI NUSA TENGGARA BARAT      Kota Bima   \n",
       "\n",
       "     Selisih Produktivitas Sktor Perkotaan (Rp/Ha)  \\\n",
       "0                                     -4257.069468   \n",
       "1                                      -477.928505   \n",
       "2                                     -1011.715732   \n",
       "3                                      -678.773717   \n",
       "4                                      -637.343199   \n",
       "..                                             ...   \n",
       "509                                   -7120.921404   \n",
       "510                                   -9060.486101   \n",
       "511                                   -5126.169394   \n",
       "512                                     614.653155   \n",
       "513                                     384.475940   \n",
       "\n",
       "     Efisiensi Penduduk (Penamb 1 Ha>Penamb Jiwa)  \\\n",
       "0                                       12.485908   \n",
       "1                                       13.871314   \n",
       "2                                       15.441474   \n",
       "3                                       21.380952   \n",
       "4                                        9.524475   \n",
       "..                                            ...   \n",
       "509                                    106.557920   \n",
       "510                                     65.843137   \n",
       "511                                     61.606897   \n",
       "512                                     31.391101   \n",
       "513                                     86.924000   \n",
       "\n",
       "     Efsiensi Ekonomi (Penambahan 1 Ha>Penamb Juta)  \n",
       "0                                        770.078362  \n",
       "1                                        932.804393  \n",
       "2                                        765.204199  \n",
       "3                                        983.936787  \n",
       "4                                        483.695898  \n",
       "..                                              ...  \n",
       "509                                     3622.516548  \n",
       "510                                     2423.627745  \n",
       "511                                     1217.724253  \n",
       "512                                     5611.773747  \n",
       "513                                     3662.280000  \n",
       "\n",
       "[514 rows x 6 columns]"
      ]
     },
     "execution_count": 37,
     "metadata": {},
     "output_type": "execute_result"
    }
   ],
   "source": [
    "dataframe"
   ]
  },
  {
   "cell_type": "code",
   "execution_count": 41,
   "id": "7b0b2c2d-d8eb-4a23-9763-6cf6a15b3f4b",
   "metadata": {},
   "outputs": [
    {
     "data": {
      "text/plain": [
       "No                                                0\n",
       "Provinsi                                          0\n",
       "Kota/Kabupaten                                    0\n",
       "Selisih Produktivitas Sktor Perkotaan (Rp/Ha)     0\n",
       "Efisiensi Penduduk (Penamb 1 Ha>Penamb Jiwa)      0\n",
       "Efsiensi Ekonomi (Penambahan 1 Ha>Penamb Juta)    0\n",
       "dtype: int64"
      ]
     },
     "execution_count": 41,
     "metadata": {},
     "output_type": "execute_result"
    }
   ],
   "source": [
    "dataframe.isna().sum() #50"
   ]
  },
  {
   "cell_type": "code",
   "execution_count": null,
   "id": "efee8066",
   "metadata": {},
   "outputs": [],
   "source": [
    "# dataframe = dataframe.drop('Unnamed: 7',axis = 1)\n",
    "# dataframe = dataframe.drop('Unnamed: 8',axis = 1)"
   ]
  },
  {
   "cell_type": "code",
   "execution_count": 39,
   "id": "13c09ed0-47f2-4313-8c40-14d168026e91",
   "metadata": {},
   "outputs": [],
   "source": [
    "dataframe = dataframe.dropna()\n",
    "# dataframe.isna().sum()\n",
    "#dataframe.fillna(dataframe.mean(numeric_only=True),inplace=True)"
   ]
  },
  {
   "cell_type": "code",
   "execution_count": 40,
   "id": "8cd0180e",
   "metadata": {},
   "outputs": [
    {
     "data": {
      "text/plain": [
       "478"
      ]
     },
     "execution_count": 40,
     "metadata": {},
     "output_type": "execute_result"
    }
   ],
   "source": [
    "len(dataframe)"
   ]
  },
  {
   "cell_type": "code",
   "execution_count": 42,
   "id": "60ebf369",
   "metadata": {},
   "outputs": [
    {
     "name": "stdout",
     "output_type": "stream",
     "text": [
      "No                                                0\n",
      "Provinsi                                          0\n",
      "Kota/Kabupaten                                    0\n",
      "Selisih Produktivitas Sktor Perkotaan (Rp/Ha)     0\n",
      "Efisiensi Penduduk (Penamb 1 Ha>Penamb Jiwa)      0\n",
      "Efsiensi Ekonomi (Penambahan 1 Ha>Penamb Juta)    0\n",
      "dtype: int64\n"
     ]
    },
    {
     "data": {
      "text/html": [
       "<div>\n",
       "<style scoped>\n",
       "    .dataframe tbody tr th:only-of-type {\n",
       "        vertical-align: middle;\n",
       "    }\n",
       "\n",
       "    .dataframe tbody tr th {\n",
       "        vertical-align: top;\n",
       "    }\n",
       "\n",
       "    .dataframe thead th {\n",
       "        text-align: right;\n",
       "    }\n",
       "</style>\n",
       "<table border=\"1\" class=\"dataframe\">\n",
       "  <thead>\n",
       "    <tr style=\"text-align: right;\">\n",
       "      <th></th>\n",
       "      <th>No</th>\n",
       "      <th>Provinsi</th>\n",
       "      <th>Kota/Kabupaten</th>\n",
       "      <th>Selisih Produktivitas Sktor Perkotaan (Rp/Ha)</th>\n",
       "      <th>Efisiensi Penduduk (Penamb 1 Ha&gt;Penamb Jiwa)</th>\n",
       "      <th>Efsiensi Ekonomi (Penambahan 1 Ha&gt;Penamb Juta)</th>\n",
       "    </tr>\n",
       "  </thead>\n",
       "  <tbody>\n",
       "    <tr>\n",
       "      <th>0</th>\n",
       "      <td>1</td>\n",
       "      <td>PROVINSI JAWA TENGAH</td>\n",
       "      <td>Cilacap</td>\n",
       "      <td>-4257.069468</td>\n",
       "      <td>12.485908</td>\n",
       "      <td>770.078362</td>\n",
       "    </tr>\n",
       "    <tr>\n",
       "      <th>1</th>\n",
       "      <td>2</td>\n",
       "      <td>PROVINSI JAWA TENGAH</td>\n",
       "      <td>Banyumas</td>\n",
       "      <td>-477.928505</td>\n",
       "      <td>13.871314</td>\n",
       "      <td>932.804393</td>\n",
       "    </tr>\n",
       "    <tr>\n",
       "      <th>2</th>\n",
       "      <td>3</td>\n",
       "      <td>PROVINSI JAWA TENGAH</td>\n",
       "      <td>Purbalingga</td>\n",
       "      <td>-1011.715732</td>\n",
       "      <td>15.441474</td>\n",
       "      <td>765.204199</td>\n",
       "    </tr>\n",
       "    <tr>\n",
       "      <th>3</th>\n",
       "      <td>4</td>\n",
       "      <td>PROVINSI JAWA TENGAH</td>\n",
       "      <td>Banjarnegara</td>\n",
       "      <td>-678.773717</td>\n",
       "      <td>21.380952</td>\n",
       "      <td>983.936787</td>\n",
       "    </tr>\n",
       "    <tr>\n",
       "      <th>4</th>\n",
       "      <td>5</td>\n",
       "      <td>PROVINSI JAWA TENGAH</td>\n",
       "      <td>Kebumen</td>\n",
       "      <td>-637.343199</td>\n",
       "      <td>9.524475</td>\n",
       "      <td>483.695898</td>\n",
       "    </tr>\n",
       "    <tr>\n",
       "      <th>...</th>\n",
       "      <td>...</td>\n",
       "      <td>...</td>\n",
       "      <td>...</td>\n",
       "      <td>...</td>\n",
       "      <td>...</td>\n",
       "      <td>...</td>\n",
       "    </tr>\n",
       "    <tr>\n",
       "      <th>509</th>\n",
       "      <td>510</td>\n",
       "      <td>PROVINSI NUSA TENGGARA BARAT</td>\n",
       "      <td>Bima</td>\n",
       "      <td>-7120.921404</td>\n",
       "      <td>106.557920</td>\n",
       "      <td>3622.516548</td>\n",
       "    </tr>\n",
       "    <tr>\n",
       "      <th>510</th>\n",
       "      <td>511</td>\n",
       "      <td>PROVINSI NUSA TENGGARA BARAT</td>\n",
       "      <td>Sumbawa Barat</td>\n",
       "      <td>-9060.486101</td>\n",
       "      <td>65.843137</td>\n",
       "      <td>2423.627745</td>\n",
       "    </tr>\n",
       "    <tr>\n",
       "      <th>511</th>\n",
       "      <td>512</td>\n",
       "      <td>PROVINSI NUSA TENGGARA BARAT</td>\n",
       "      <td>Lombok Utara</td>\n",
       "      <td>-5126.169394</td>\n",
       "      <td>61.606897</td>\n",
       "      <td>1217.724253</td>\n",
       "    </tr>\n",
       "    <tr>\n",
       "      <th>512</th>\n",
       "      <td>513</td>\n",
       "      <td>PROVINSI NUSA TENGGARA BARAT</td>\n",
       "      <td>Kota Mataram</td>\n",
       "      <td>614.653155</td>\n",
       "      <td>31.391101</td>\n",
       "      <td>5611.773747</td>\n",
       "    </tr>\n",
       "    <tr>\n",
       "      <th>513</th>\n",
       "      <td>514</td>\n",
       "      <td>PROVINSI NUSA TENGGARA BARAT</td>\n",
       "      <td>Kota Bima</td>\n",
       "      <td>384.475940</td>\n",
       "      <td>86.924000</td>\n",
       "      <td>3662.280000</td>\n",
       "    </tr>\n",
       "  </tbody>\n",
       "</table>\n",
       "<p>478 rows × 6 columns</p>\n",
       "</div>"
      ],
      "text/plain": [
       "      No                     Provinsi  Kota/Kabupaten  \\\n",
       "0      1          PROVINSI JAWA TENGAH        Cilacap   \n",
       "1      2          PROVINSI JAWA TENGAH       Banyumas   \n",
       "2      3          PROVINSI JAWA TENGAH    Purbalingga   \n",
       "3      4          PROVINSI JAWA TENGAH   Banjarnegara   \n",
       "4      5          PROVINSI JAWA TENGAH        Kebumen   \n",
       "..   ...                           ...            ...   \n",
       "509  510  PROVINSI NUSA TENGGARA BARAT           Bima   \n",
       "510  511  PROVINSI NUSA TENGGARA BARAT  Sumbawa Barat   \n",
       "511  512  PROVINSI NUSA TENGGARA BARAT   Lombok Utara   \n",
       "512  513  PROVINSI NUSA TENGGARA BARAT   Kota Mataram   \n",
       "513  514  PROVINSI NUSA TENGGARA BARAT      Kota Bima   \n",
       "\n",
       "     Selisih Produktivitas Sktor Perkotaan (Rp/Ha)  \\\n",
       "0                                     -4257.069468   \n",
       "1                                      -477.928505   \n",
       "2                                     -1011.715732   \n",
       "3                                      -678.773717   \n",
       "4                                      -637.343199   \n",
       "..                                             ...   \n",
       "509                                   -7120.921404   \n",
       "510                                   -9060.486101   \n",
       "511                                   -5126.169394   \n",
       "512                                     614.653155   \n",
       "513                                     384.475940   \n",
       "\n",
       "     Efisiensi Penduduk (Penamb 1 Ha>Penamb Jiwa)  \\\n",
       "0                                       12.485908   \n",
       "1                                       13.871314   \n",
       "2                                       15.441474   \n",
       "3                                       21.380952   \n",
       "4                                        9.524475   \n",
       "..                                            ...   \n",
       "509                                    106.557920   \n",
       "510                                     65.843137   \n",
       "511                                     61.606897   \n",
       "512                                     31.391101   \n",
       "513                                     86.924000   \n",
       "\n",
       "     Efsiensi Ekonomi (Penambahan 1 Ha>Penamb Juta)  \n",
       "0                                        770.078362  \n",
       "1                                        932.804393  \n",
       "2                                        765.204199  \n",
       "3                                        983.936787  \n",
       "4                                        483.695898  \n",
       "..                                              ...  \n",
       "509                                     3622.516548  \n",
       "510                                     2423.627745  \n",
       "511                                     1217.724253  \n",
       "512                                     5611.773747  \n",
       "513                                     3662.280000  \n",
       "\n",
       "[478 rows x 6 columns]"
      ]
     },
     "execution_count": 42,
     "metadata": {},
     "output_type": "execute_result"
    }
   ],
   "source": [
    "print(dataframe.isna().sum())\n",
    "dataframe"
   ]
  },
  {
   "cell_type": "code",
   "execution_count": 43,
   "id": "16c279ce-8d74-44d4-8020-363cfa58611c",
   "metadata": {},
   "outputs": [
    {
     "name": "stdout",
     "output_type": "stream",
     "text": [
      "1\n",
      "2\n",
      "478\n"
     ]
    }
   ],
   "source": [
    "n_dependent_var = 1#:(y) banyak dependent variabel  \n",
    "start_indexing_dependent_var = 3 #(y)\n",
    "\n",
    "n_independent_var = 2#:(x) banyak independent variabel \n",
    "start_indexing_independent_var = 4 #(x)\n",
    "\n",
    "n_row = len(dataframe)  #banyak per kolom (banyak baris)\n",
    "\n",
    "df_dependent = dataframe.iloc[:,start_indexing_dependent_var]\n",
    "df_independent = dataframe.iloc[:,start_indexing_independent_var:]\n",
    "\n",
    "print(n_dependent_var)\n",
    "print(n_independent_var)\n",
    "print(n_row)"
   ]
  },
  {
   "cell_type": "code",
   "execution_count": 44,
   "id": "606b8c94",
   "metadata": {},
   "outputs": [
    {
     "data": {
      "text/plain": [
       "0     -4257.069468\n",
       "1      -477.928505\n",
       "2     -1011.715732\n",
       "3      -678.773717\n",
       "4      -637.343199\n",
       "          ...     \n",
       "509   -7120.921404\n",
       "510   -9060.486101\n",
       "511   -5126.169394\n",
       "512     614.653155\n",
       "513     384.475940\n",
       "Name: Selisih Produktivitas Sktor Perkotaan (Rp/Ha), Length: 478, dtype: float64"
      ]
     },
     "execution_count": 44,
     "metadata": {},
     "output_type": "execute_result"
    }
   ],
   "source": [
    "df_dependent.iloc[:]"
   ]
  },
  {
   "cell_type": "code",
   "execution_count": 45,
   "id": "497f6e13",
   "metadata": {},
   "outputs": [
    {
     "data": {
      "text/html": [
       "<div>\n",
       "<style scoped>\n",
       "    .dataframe tbody tr th:only-of-type {\n",
       "        vertical-align: middle;\n",
       "    }\n",
       "\n",
       "    .dataframe tbody tr th {\n",
       "        vertical-align: top;\n",
       "    }\n",
       "\n",
       "    .dataframe thead th {\n",
       "        text-align: right;\n",
       "    }\n",
       "</style>\n",
       "<table border=\"1\" class=\"dataframe\">\n",
       "  <thead>\n",
       "    <tr style=\"text-align: right;\">\n",
       "      <th></th>\n",
       "      <th>Efisiensi Penduduk (Penamb 1 Ha&gt;Penamb Jiwa)</th>\n",
       "      <th>Efsiensi Ekonomi (Penambahan 1 Ha&gt;Penamb Juta)</th>\n",
       "    </tr>\n",
       "  </thead>\n",
       "  <tbody>\n",
       "    <tr>\n",
       "      <th>0</th>\n",
       "      <td>12.485908</td>\n",
       "      <td>770.078362</td>\n",
       "    </tr>\n",
       "    <tr>\n",
       "      <th>1</th>\n",
       "      <td>13.871314</td>\n",
       "      <td>932.804393</td>\n",
       "    </tr>\n",
       "    <tr>\n",
       "      <th>2</th>\n",
       "      <td>15.441474</td>\n",
       "      <td>765.204199</td>\n",
       "    </tr>\n",
       "    <tr>\n",
       "      <th>3</th>\n",
       "      <td>21.380952</td>\n",
       "      <td>983.936787</td>\n",
       "    </tr>\n",
       "    <tr>\n",
       "      <th>4</th>\n",
       "      <td>9.524475</td>\n",
       "      <td>483.695898</td>\n",
       "    </tr>\n",
       "    <tr>\n",
       "      <th>...</th>\n",
       "      <td>...</td>\n",
       "      <td>...</td>\n",
       "    </tr>\n",
       "    <tr>\n",
       "      <th>509</th>\n",
       "      <td>106.557920</td>\n",
       "      <td>3622.516548</td>\n",
       "    </tr>\n",
       "    <tr>\n",
       "      <th>510</th>\n",
       "      <td>65.843137</td>\n",
       "      <td>2423.627745</td>\n",
       "    </tr>\n",
       "    <tr>\n",
       "      <th>511</th>\n",
       "      <td>61.606897</td>\n",
       "      <td>1217.724253</td>\n",
       "    </tr>\n",
       "    <tr>\n",
       "      <th>512</th>\n",
       "      <td>31.391101</td>\n",
       "      <td>5611.773747</td>\n",
       "    </tr>\n",
       "    <tr>\n",
       "      <th>513</th>\n",
       "      <td>86.924000</td>\n",
       "      <td>3662.280000</td>\n",
       "    </tr>\n",
       "  </tbody>\n",
       "</table>\n",
       "<p>478 rows × 2 columns</p>\n",
       "</div>"
      ],
      "text/plain": [
       "     Efisiensi Penduduk (Penamb 1 Ha>Penamb Jiwa)  \\\n",
       "0                                       12.485908   \n",
       "1                                       13.871314   \n",
       "2                                       15.441474   \n",
       "3                                       21.380952   \n",
       "4                                        9.524475   \n",
       "..                                            ...   \n",
       "509                                    106.557920   \n",
       "510                                     65.843137   \n",
       "511                                     61.606897   \n",
       "512                                     31.391101   \n",
       "513                                     86.924000   \n",
       "\n",
       "     Efsiensi Ekonomi (Penambahan 1 Ha>Penamb Juta)  \n",
       "0                                        770.078362  \n",
       "1                                        932.804393  \n",
       "2                                        765.204199  \n",
       "3                                        983.936787  \n",
       "4                                        483.695898  \n",
       "..                                              ...  \n",
       "509                                     3622.516548  \n",
       "510                                     2423.627745  \n",
       "511                                     1217.724253  \n",
       "512                                     5611.773747  \n",
       "513                                     3662.280000  \n",
       "\n",
       "[478 rows x 2 columns]"
      ]
     },
     "execution_count": 45,
     "metadata": {},
     "output_type": "execute_result"
    }
   ],
   "source": [
    "df_independent.iloc[:] #(x = atas bawah,y (kiri kanan))"
   ]
  },
  {
   "cell_type": "code",
   "execution_count": 46,
   "id": "9ffbe172",
   "metadata": {},
   "outputs": [
    {
     "data": {
      "text/plain": [
       "array([[0., 0.]])"
      ]
     },
     "execution_count": 46,
     "metadata": {},
     "output_type": "execute_result"
    }
   ],
   "source": [
    "np.zeros(shape=(n_dependent_var,n_independent_var))"
   ]
  },
  {
   "cell_type": "code",
   "execution_count": 47,
   "id": "48cd7b52",
   "metadata": {},
   "outputs": [
    {
     "name": "stdout",
     "output_type": "stream",
     "text": [
      "1\n",
      "2\n",
      "478\n"
     ]
    }
   ],
   "source": [
    "print(n_dependent_var)\n",
    "print(n_independent_var)\n",
    "print(n_row)"
   ]
  },
  {
   "cell_type": "code",
   "execution_count": 54,
   "id": "3ce272bb",
   "metadata": {},
   "outputs": [
    {
     "ename": "KeyError",
     "evalue": "'rank_y_invert'",
     "output_type": "error",
     "traceback": [
      "\u001b[1;31m---------------------------------------------------------------------------\u001b[0m",
      "\u001b[1;31mKeyError\u001b[0m                                  Traceback (most recent call last)",
      "File \u001b[1;32mc:\\Users\\pc\\AppData\\Local\\Programs\\Python\\Python311\\Lib\\site-packages\\pandas\\core\\indexes\\base.py:3790\u001b[0m, in \u001b[0;36mIndex.get_loc\u001b[1;34m(self, key)\u001b[0m\n\u001b[0;32m   3789\u001b[0m \u001b[39mtry\u001b[39;00m:\n\u001b[1;32m-> 3790\u001b[0m     \u001b[39mreturn\u001b[39;00m \u001b[39mself\u001b[39;49m\u001b[39m.\u001b[39;49m_engine\u001b[39m.\u001b[39;49mget_loc(casted_key)\n\u001b[0;32m   3791\u001b[0m \u001b[39mexcept\u001b[39;00m \u001b[39mKeyError\u001b[39;00m \u001b[39mas\u001b[39;00m err:\n",
      "File \u001b[1;32mindex.pyx:152\u001b[0m, in \u001b[0;36mpandas._libs.index.IndexEngine.get_loc\u001b[1;34m()\u001b[0m\n",
      "File \u001b[1;32mindex.pyx:181\u001b[0m, in \u001b[0;36mpandas._libs.index.IndexEngine.get_loc\u001b[1;34m()\u001b[0m\n",
      "File \u001b[1;32mpandas\\_libs\\hashtable_class_helper.pxi:7080\u001b[0m, in \u001b[0;36mpandas._libs.hashtable.PyObjectHashTable.get_item\u001b[1;34m()\u001b[0m\n",
      "File \u001b[1;32mpandas\\_libs\\hashtable_class_helper.pxi:7088\u001b[0m, in \u001b[0;36mpandas._libs.hashtable.PyObjectHashTable.get_item\u001b[1;34m()\u001b[0m\n",
      "\u001b[1;31mKeyError\u001b[0m: 'rank_y_invert'",
      "\nThe above exception was the direct cause of the following exception:\n",
      "\u001b[1;31mKeyError\u001b[0m                                  Traceback (most recent call last)",
      "\u001b[1;32mc:\\Users\\pc\\Documents\\pythonProjects\\VariablesWeightPipik-main\\Statistika.ipynb Cell 14\u001b[0m line \u001b[0;36m3\n\u001b[0;32m     <a href='vscode-notebook-cell:/c%3A/Users/pc/Documents/pythonProjects/VariablesWeightPipik-main/Statistika.ipynb#X14sZmlsZQ%3D%3D?line=33'>34</a>\u001b[0m     total_pembilang \u001b[39m=\u001b[39m total_pembilang \u001b[39m+\u001b[39m pembilang\n\u001b[0;32m     <a href='vscode-notebook-cell:/c%3A/Users/pc/Documents/pythonProjects/VariablesWeightPipik-main/Statistika.ipynb#X14sZmlsZQ%3D%3D?line=34'>35</a>\u001b[0m \u001b[39mfor\u001b[39;00m e \u001b[39min\u001b[39;00m \u001b[39mrange\u001b[39m(n_row):\n\u001b[1;32m---> <a href='vscode-notebook-cell:/c%3A/Users/pc/Documents/pythonProjects/VariablesWeightPipik-main/Statistika.ipynb#X14sZmlsZQ%3D%3D?line=35'>36</a>\u001b[0m     penyebut \u001b[39m=\u001b[39m df[\u001b[39m\"\u001b[39;49m\u001b[39mrank_y_invert\u001b[39;49m\u001b[39m\"\u001b[39;49m][e] \u001b[39m*\u001b[39m (n_row \u001b[39m-\u001b[39m df[\u001b[39m\"\u001b[39m\u001b[39mrank_y_invert\u001b[39m\u001b[39m\"\u001b[39m][e])\n\u001b[0;32m     <a href='vscode-notebook-cell:/c%3A/Users/pc/Documents/pythonProjects/VariablesWeightPipik-main/Statistika.ipynb#X14sZmlsZQ%3D%3D?line=36'>37</a>\u001b[0m     \u001b[39m#list_of_penyebut.append(penyebut)\u001b[39;00m\n\u001b[0;32m     <a href='vscode-notebook-cell:/c%3A/Users/pc/Documents/pythonProjects/VariablesWeightPipik-main/Statistika.ipynb#X14sZmlsZQ%3D%3D?line=37'>38</a>\u001b[0m     total_penyebut \u001b[39m=\u001b[39m total_penyebut \u001b[39m+\u001b[39m penyebut\n",
      "File \u001b[1;32mc:\\Users\\pc\\AppData\\Local\\Programs\\Python\\Python311\\Lib\\site-packages\\pandas\\core\\frame.py:3896\u001b[0m, in \u001b[0;36mDataFrame.__getitem__\u001b[1;34m(self, key)\u001b[0m\n\u001b[0;32m   3894\u001b[0m \u001b[39mif\u001b[39;00m \u001b[39mself\u001b[39m\u001b[39m.\u001b[39mcolumns\u001b[39m.\u001b[39mnlevels \u001b[39m>\u001b[39m \u001b[39m1\u001b[39m:\n\u001b[0;32m   3895\u001b[0m     \u001b[39mreturn\u001b[39;00m \u001b[39mself\u001b[39m\u001b[39m.\u001b[39m_getitem_multilevel(key)\n\u001b[1;32m-> 3896\u001b[0m indexer \u001b[39m=\u001b[39m \u001b[39mself\u001b[39;49m\u001b[39m.\u001b[39;49mcolumns\u001b[39m.\u001b[39;49mget_loc(key)\n\u001b[0;32m   3897\u001b[0m \u001b[39mif\u001b[39;00m is_integer(indexer):\n\u001b[0;32m   3898\u001b[0m     indexer \u001b[39m=\u001b[39m [indexer]\n",
      "File \u001b[1;32mc:\\Users\\pc\\AppData\\Local\\Programs\\Python\\Python311\\Lib\\site-packages\\pandas\\core\\indexes\\base.py:3797\u001b[0m, in \u001b[0;36mIndex.get_loc\u001b[1;34m(self, key)\u001b[0m\n\u001b[0;32m   3792\u001b[0m     \u001b[39mif\u001b[39;00m \u001b[39misinstance\u001b[39m(casted_key, \u001b[39mslice\u001b[39m) \u001b[39mor\u001b[39;00m (\n\u001b[0;32m   3793\u001b[0m         \u001b[39misinstance\u001b[39m(casted_key, abc\u001b[39m.\u001b[39mIterable)\n\u001b[0;32m   3794\u001b[0m         \u001b[39mand\u001b[39;00m \u001b[39many\u001b[39m(\u001b[39misinstance\u001b[39m(x, \u001b[39mslice\u001b[39m) \u001b[39mfor\u001b[39;00m x \u001b[39min\u001b[39;00m casted_key)\n\u001b[0;32m   3795\u001b[0m     ):\n\u001b[0;32m   3796\u001b[0m         \u001b[39mraise\u001b[39;00m InvalidIndexError(key)\n\u001b[1;32m-> 3797\u001b[0m     \u001b[39mraise\u001b[39;00m \u001b[39mKeyError\u001b[39;00m(key) \u001b[39mfrom\u001b[39;00m \u001b[39merr\u001b[39;00m\n\u001b[0;32m   3798\u001b[0m \u001b[39mexcept\u001b[39;00m \u001b[39mTypeError\u001b[39;00m:\n\u001b[0;32m   3799\u001b[0m     \u001b[39m# If we have a listlike key, _check_indexing_error will raise\u001b[39;00m\n\u001b[0;32m   3800\u001b[0m     \u001b[39m#  InvalidIndexError. Otherwise we fall through and re-raise\u001b[39;00m\n\u001b[0;32m   3801\u001b[0m     \u001b[39m#  the TypeError.\u001b[39;00m\n\u001b[0;32m   3802\u001b[0m     \u001b[39mself\u001b[39m\u001b[39m.\u001b[39m_check_indexing_error(key)\n",
      "\u001b[1;31mKeyError\u001b[0m: 'rank_y_invert'"
     ]
    }
   ],
   "source": [
    "total_pembilang = 0\n",
    "total_penyebut = 0 #inisialisasi variabel buat dipake nanti\n",
    "list_of_coefficient = np.zeros(shape=(n_dependent_var,n_independent_var)) #buat container untuk ngestore nilai nilai weight (total ada 116 nilai weight)\n",
    "list_of_pembilang = []\n",
    "list_of_penyebut = []\n",
    "for j in range(n_dependent_var):\n",
    "    for i in range(n_independent_var):\n",
    "        \n",
    "        dataframe_independent_temp = 0\n",
    "        dataframe_dependent_temp = 0\n",
    "        \n",
    "        #dataframe_independent_temp = dataframe.iloc[:,i+start_indexing_independent_var] #(ngambil nilai dataframe independent mulai dari area square dan iterating ke bawah)\n",
    "        dataframe_independent_temp = df_independent.iloc[:,i]  #(ngambil nilai dataframe independent mulai dari area square dan iterating ke bawah)\n",
    "        x = dataframe_independent_temp.values\n",
    "        \n",
    "        #dataframe_dependent_temp = dataframe.iloc[:,i+start_indexing_dependent_var] #(ngambil nilai dataframe dependent mulai dari area square dan iterating ke bawah)\n",
    "        dataframe_dependent_temp = df_dependent.iloc[:] #dataframe.iloc[:,j] #(ngambil nilai dataframe dependent mulai dari area square dan iterating ke bawah)\n",
    "        y = dataframe_dependent_temp.values\n",
    "        \n",
    "        df = pd.DataFrame({\"X\" : x, \"Y\" : y}) #mbuat kolom baru dan sekalian ngeplotin nilainya setiap iterasi variabel independent terhadap\n",
    "        #salah satu variabel bebas(29*4 kali)\n",
    "        \n",
    "        df[\"rank_x\"] = df[\"X\"].rank()\n",
    "        df[\"rank_y\"] = df[\"Y\"].rank()\n",
    "        df = df.sort_values(by=\"rank_x\")\n",
    "        #df[\"rank_y_invert\"] = df[\"Y\"].rank(method = \"max\",axis = 0) #rumus dari youtube + jurnal yg disend pipik\n",
    "        \n",
    "        \n",
    "#         total_pembilang = df['rank_y'].diff().abs().sum()\n",
    "        \n",
    "        for a in range(n_row-1):\n",
    "            pembilang = (abs(df[\"rank_y\"][a+1] - df[\"rank_y\"][a]))\n",
    "            list_of_pembilang.append(pembilang)\n",
    "            total_pembilang = total_pembilang + pembilang\n",
    "        for e in range(n_row):\n",
    "            penyebut = df[\"rank_y_invert\"][e] * (n_row - df[\"rank_y_invert\"][e])\n",
    "            #list_of_penyebut.append(penyebut)\n",
    "            total_penyebut = total_penyebut + penyebut\n",
    "\n",
    "        total_pembilang = total_pembilang * n_row\n",
    "        total_penyebut = total_penyebut * 2\n",
    "        coefficient =  1 - ((total_pembilang) / total_penyebut )\n",
    "        list_of_coefficient[j][i] = coefficient\n",
    "\n",
    "print(total_pembilang)\n",
    "print(total_penyebut)"
   ]
  },
  {
   "cell_type": "code",
   "execution_count": 53,
   "id": "337bfd47",
   "metadata": {},
   "outputs": [
    {
     "data": {
      "text/plain": [
       "478.0"
      ]
     },
     "execution_count": 53,
     "metadata": {},
     "output_type": "execute_result"
    }
   ],
   "source": [
    "df_rank_x[0].max()"
   ]
  },
  {
   "cell_type": "code",
   "execution_count": 51,
   "id": "648a7edc",
   "metadata": {},
   "outputs": [
    {
     "name": "stdout",
     "output_type": "stream",
     "text": [
      "[[   0.167054   -131.99371069]]\n",
      "[[0.167054 0.      ]]\n"
     ]
    }
   ],
   "source": [
    "print(list_of_coefficient)\n",
    "#print(list_of_coefficient[0][1])\n",
    "print(np.where(list_of_coefficient > -1.0, list_of_coefficient, 0))\n",
    "# list_of_coefficient = np.where(list_of_coefficient > -1, list_of_coefficient, 0)"
   ]
  },
  {
   "cell_type": "code",
   "execution_count": 52,
   "id": "a45810c0",
   "metadata": {},
   "outputs": [
    {
     "data": {
      "text/html": [
       "<div>\n",
       "<style scoped>\n",
       "    .dataframe tbody tr th:only-of-type {\n",
       "        vertical-align: middle;\n",
       "    }\n",
       "\n",
       "    .dataframe tbody tr th {\n",
       "        vertical-align: top;\n",
       "    }\n",
       "\n",
       "    .dataframe thead th {\n",
       "        text-align: right;\n",
       "    }\n",
       "</style>\n",
       "<table border=\"1\" class=\"dataframe\">\n",
       "  <thead>\n",
       "    <tr style=\"text-align: right;\">\n",
       "      <th></th>\n",
       "      <th>No</th>\n",
       "      <th>Provinsi</th>\n",
       "      <th>Kota/Kabupaten</th>\n",
       "      <th>Selisih Produktivitas Sktor Perkotaan (Rp/Ha)</th>\n",
       "      <th>Efisiensi Penduduk (Penamb 1 Ha&gt;Penamb Jiwa)</th>\n",
       "      <th>Efsiensi Ekonomi (Penambahan 1 Ha&gt;Penamb Juta)</th>\n",
       "    </tr>\n",
       "  </thead>\n",
       "  <tbody>\n",
       "    <tr>\n",
       "      <th>0</th>\n",
       "      <td>1</td>\n",
       "      <td>PROVINSI JAWA TENGAH</td>\n",
       "      <td>Cilacap</td>\n",
       "      <td>-4257.069468</td>\n",
       "      <td>12.485908</td>\n",
       "      <td>770.078362</td>\n",
       "    </tr>\n",
       "    <tr>\n",
       "      <th>1</th>\n",
       "      <td>2</td>\n",
       "      <td>PROVINSI JAWA TENGAH</td>\n",
       "      <td>Banyumas</td>\n",
       "      <td>-477.928505</td>\n",
       "      <td>13.871314</td>\n",
       "      <td>932.804393</td>\n",
       "    </tr>\n",
       "    <tr>\n",
       "      <th>2</th>\n",
       "      <td>3</td>\n",
       "      <td>PROVINSI JAWA TENGAH</td>\n",
       "      <td>Purbalingga</td>\n",
       "      <td>-1011.715732</td>\n",
       "      <td>15.441474</td>\n",
       "      <td>765.204199</td>\n",
       "    </tr>\n",
       "    <tr>\n",
       "      <th>3</th>\n",
       "      <td>4</td>\n",
       "      <td>PROVINSI JAWA TENGAH</td>\n",
       "      <td>Banjarnegara</td>\n",
       "      <td>-678.773717</td>\n",
       "      <td>21.380952</td>\n",
       "      <td>983.936787</td>\n",
       "    </tr>\n",
       "    <tr>\n",
       "      <th>4</th>\n",
       "      <td>5</td>\n",
       "      <td>PROVINSI JAWA TENGAH</td>\n",
       "      <td>Kebumen</td>\n",
       "      <td>-637.343199</td>\n",
       "      <td>9.524475</td>\n",
       "      <td>483.695898</td>\n",
       "    </tr>\n",
       "    <tr>\n",
       "      <th>...</th>\n",
       "      <td>...</td>\n",
       "      <td>...</td>\n",
       "      <td>...</td>\n",
       "      <td>...</td>\n",
       "      <td>...</td>\n",
       "      <td>...</td>\n",
       "    </tr>\n",
       "    <tr>\n",
       "      <th>509</th>\n",
       "      <td>510</td>\n",
       "      <td>PROVINSI NUSA TENGGARA BARAT</td>\n",
       "      <td>Bima</td>\n",
       "      <td>-7120.921404</td>\n",
       "      <td>106.557920</td>\n",
       "      <td>3622.516548</td>\n",
       "    </tr>\n",
       "    <tr>\n",
       "      <th>510</th>\n",
       "      <td>511</td>\n",
       "      <td>PROVINSI NUSA TENGGARA BARAT</td>\n",
       "      <td>Sumbawa Barat</td>\n",
       "      <td>-9060.486101</td>\n",
       "      <td>65.843137</td>\n",
       "      <td>2423.627745</td>\n",
       "    </tr>\n",
       "    <tr>\n",
       "      <th>511</th>\n",
       "      <td>512</td>\n",
       "      <td>PROVINSI NUSA TENGGARA BARAT</td>\n",
       "      <td>Lombok Utara</td>\n",
       "      <td>-5126.169394</td>\n",
       "      <td>61.606897</td>\n",
       "      <td>1217.724253</td>\n",
       "    </tr>\n",
       "    <tr>\n",
       "      <th>512</th>\n",
       "      <td>513</td>\n",
       "      <td>PROVINSI NUSA TENGGARA BARAT</td>\n",
       "      <td>Kota Mataram</td>\n",
       "      <td>614.653155</td>\n",
       "      <td>31.391101</td>\n",
       "      <td>5611.773747</td>\n",
       "    </tr>\n",
       "    <tr>\n",
       "      <th>513</th>\n",
       "      <td>514</td>\n",
       "      <td>PROVINSI NUSA TENGGARA BARAT</td>\n",
       "      <td>Kota Bima</td>\n",
       "      <td>384.475940</td>\n",
       "      <td>86.924000</td>\n",
       "      <td>3662.280000</td>\n",
       "    </tr>\n",
       "  </tbody>\n",
       "</table>\n",
       "<p>478 rows × 6 columns</p>\n",
       "</div>"
      ],
      "text/plain": [
       "      No                     Provinsi  Kota/Kabupaten  \\\n",
       "0      1          PROVINSI JAWA TENGAH        Cilacap   \n",
       "1      2          PROVINSI JAWA TENGAH       Banyumas   \n",
       "2      3          PROVINSI JAWA TENGAH    Purbalingga   \n",
       "3      4          PROVINSI JAWA TENGAH   Banjarnegara   \n",
       "4      5          PROVINSI JAWA TENGAH        Kebumen   \n",
       "..   ...                           ...            ...   \n",
       "509  510  PROVINSI NUSA TENGGARA BARAT           Bima   \n",
       "510  511  PROVINSI NUSA TENGGARA BARAT  Sumbawa Barat   \n",
       "511  512  PROVINSI NUSA TENGGARA BARAT   Lombok Utara   \n",
       "512  513  PROVINSI NUSA TENGGARA BARAT   Kota Mataram   \n",
       "513  514  PROVINSI NUSA TENGGARA BARAT      Kota Bima   \n",
       "\n",
       "     Selisih Produktivitas Sktor Perkotaan (Rp/Ha)  \\\n",
       "0                                     -4257.069468   \n",
       "1                                      -477.928505   \n",
       "2                                     -1011.715732   \n",
       "3                                      -678.773717   \n",
       "4                                      -637.343199   \n",
       "..                                             ...   \n",
       "509                                   -7120.921404   \n",
       "510                                   -9060.486101   \n",
       "511                                   -5126.169394   \n",
       "512                                     614.653155   \n",
       "513                                     384.475940   \n",
       "\n",
       "     Efisiensi Penduduk (Penamb 1 Ha>Penamb Jiwa)  \\\n",
       "0                                       12.485908   \n",
       "1                                       13.871314   \n",
       "2                                       15.441474   \n",
       "3                                       21.380952   \n",
       "4                                        9.524475   \n",
       "..                                            ...   \n",
       "509                                    106.557920   \n",
       "510                                     65.843137   \n",
       "511                                     61.606897   \n",
       "512                                     31.391101   \n",
       "513                                     86.924000   \n",
       "\n",
       "     Efsiensi Ekonomi (Penambahan 1 Ha>Penamb Juta)  \n",
       "0                                        770.078362  \n",
       "1                                        932.804393  \n",
       "2                                        765.204199  \n",
       "3                                        983.936787  \n",
       "4                                        483.695898  \n",
       "..                                              ...  \n",
       "509                                     3622.516548  \n",
       "510                                     2423.627745  \n",
       "511                                     1217.724253  \n",
       "512                                     5611.773747  \n",
       "513                                     3662.280000  \n",
       "\n",
       "[478 rows x 6 columns]"
      ]
     },
     "execution_count": 52,
     "metadata": {},
     "output_type": "execute_result"
    }
   ],
   "source": [
    "dataframe"
   ]
  },
  {
   "cell_type": "code",
   "execution_count": null,
   "id": "b43ae7bd-ef68-4b80-8214-48167765cd6e",
   "metadata": {},
   "outputs": [],
   "source": [
    "table = dataframe\n",
    "table = table[:n_dependent_var]\n",
    "table = table.drop('No',axis=1)\n",
    "table = table.drop('Provinsi ',axis=1)\n",
    "table = table.drop(list(table)[0],axis=1) #kota kabupaten\n",
    "list(table)"
   ]
  },
  {
   "cell_type": "code",
   "execution_count": null,
   "id": "bfd7d736",
   "metadata": {},
   "outputs": [],
   "source": [
    "table.index = [list(table)[0]]\n",
    "table = table.drop(list(table)[0],axis=1) #kota kabupaten\n",
    "table  "
   ]
  },
  {
   "cell_type": "code",
   "execution_count": null,
   "id": "d5bc0a14",
   "metadata": {},
   "outputs": [],
   "source": [
    "list(table)"
   ]
  },
  {
   "cell_type": "code",
   "execution_count": null,
   "id": "5d937c02",
   "metadata": {},
   "outputs": [],
   "source": [
    "table = table.drop(list(table)[3],axis=1)\n",
    "table = table.drop(list(table)[1],axis=1)\n",
    "table = table.drop(list(table)[1],axis=1)\n",
    "list(table)"
   ]
  },
  {
   "cell_type": "code",
   "execution_count": null,
   "id": "be3e3448",
   "metadata": {},
   "outputs": [],
   "source": [
    "for j in range(n_dependent_var): \n",
    "    for i in range(n_independent_var):\n",
    "        table.iloc[j,i] = list_of_coefficient[j,i]"
   ]
  },
  {
   "cell_type": "code",
   "execution_count": null,
   "id": "4a05be29",
   "metadata": {},
   "outputs": [],
   "source": [
    "table"
   ]
  },
  {
   "cell_type": "code",
   "execution_count": null,
   "id": "e4d50781",
   "metadata": {},
   "outputs": [],
   "source": [
    "# for j in range(n_dependent_var): \n",
    "#     for i in range(n_independent_var):\n",
    "#         table.iloc[j,start_indexing_independent_var] = list_of_coefficient[j,i]"
   ]
  },
  {
   "cell_type": "code",
   "execution_count": null,
   "id": "b00ad2d2",
   "metadata": {},
   "outputs": [],
   "source": [
    "list(table)"
   ]
  },
  {
   "cell_type": "code",
   "execution_count": null,
   "id": "500ef617",
   "metadata": {},
   "outputs": [],
   "source": [
    "img_table = table.to_excel('PDRB Perkotaan 2010, LT, PDD XY2.xlsx')"
   ]
  },
  {
   "cell_type": "code",
   "execution_count": null,
   "id": "0269456c",
   "metadata": {},
   "outputs": [],
   "source": [
    "x = data_independent.values\n",
    "print(x) //udah"
   ]
  },
  {
   "cell_type": "code",
   "execution_count": null,
   "id": "1ece4bdb",
   "metadata": {},
   "outputs": [],
   "source": [
    "df_dependent"
   ]
  },
  {
   "cell_type": "code",
   "execution_count": null,
   "id": "a5c90ef2",
   "metadata": {},
   "outputs": [],
   "source": [
    "df_dependent.iloc[:,3] //udah"
   ]
  },
  {
   "cell_type": "code",
   "execution_count": null,
   "id": "458e1c34",
   "metadata": {},
   "outputs": [],
   "source": [
    "y = dataframe_dependent.values //udah"
   ]
  },
  {
   "cell_type": "code",
   "execution_count": null,
   "id": "c747b820",
   "metadata": {},
   "outputs": [],
   "source": [
    "dataframe_dependent.shape"
   ]
  },
  {
   "cell_type": "code",
   "execution_count": null,
   "id": "c1540323",
   "metadata": {},
   "outputs": [],
   "source": [
    "n = dataframe_dependent.shape[0]\n",
    "print(n)"
   ]
  },
  {
   "cell_type": "code",
   "execution_count": null,
   "id": "ac4df71d",
   "metadata": {},
   "outputs": [],
   "source": [
    "x"
   ]
  },
  {
   "cell_type": "code",
   "execution_count": null,
   "id": "e67d5e0d",
   "metadata": {},
   "outputs": [],
   "source": [
    "plt.scatter(x,y)"
   ]
  },
  {
   "cell_type": "code",
   "execution_count": null,
   "id": "c88f32b2",
   "metadata": {},
   "outputs": [],
   "source": [
    "df = pd.DataFrame({\"X\" : x, \"Y\" : y})"
   ]
  },
  {
   "cell_type": "code",
   "execution_count": null,
   "id": "0cefa05d",
   "metadata": {},
   "outputs": [],
   "source": [
    "df"
   ]
  },
  {
   "cell_type": "code",
   "execution_count": null,
   "id": "4c7deaaf",
   "metadata": {},
   "outputs": [],
   "source": [
    "df[\"rank_x\"] = df[\"X\"].rank()"
   ]
  },
  {
   "cell_type": "code",
   "execution_count": null,
   "id": "51f4be54",
   "metadata": {},
   "outputs": [],
   "source": [
    "df.head(3)"
   ]
  },
  {
   "cell_type": "code",
   "execution_count": null,
   "id": "c7f8054b",
   "metadata": {},
   "outputs": [],
   "source": [
    "df[\"rank_x\"].min()"
   ]
  },
  {
   "cell_type": "code",
   "execution_count": null,
   "id": "3dbf8790",
   "metadata": {},
   "outputs": [],
   "source": [
    "df[\"rank_x\"].max()"
   ]
  },
  {
   "cell_type": "code",
   "execution_count": null,
   "id": "fe867289",
   "metadata": {},
   "outputs": [],
   "source": [
    "df[\"rank_y\"] = df[\"Y\"].rank()"
   ]
  },
  {
   "cell_type": "code",
   "execution_count": null,
   "id": "61019e4d",
   "metadata": {},
   "outputs": [],
   "source": [
    "df = df.sort_values(by=\"rank_x\")"
   ]
  },
  {
   "cell_type": "code",
   "execution_count": null,
   "id": "d68f670d",
   "metadata": {},
   "outputs": [],
   "source": [
    "df"
   ]
  },
  {
   "cell_type": "code",
   "execution_count": null,
   "id": "15efef1a",
   "metadata": {},
   "outputs": [],
   "source": [
    "total = df['rank_y'].diff().abs().sum()"
   ]
  },
  {
   "cell_type": "code",
   "execution_count": null,
   "id": "39a15c85",
   "metadata": {},
   "outputs": [],
   "source": [
    "total"
   ]
  },
  {
   "cell_type": "code",
   "execution_count": null,
   "id": "709af0de",
   "metadata": {},
   "outputs": [],
   "source": [
    "coefficient =  1 - ((3*total) / (pow(n,2) - 1))"
   ]
  },
  {
   "cell_type": "code",
   "execution_count": null,
   "id": "7711e2cb",
   "metadata": {},
   "outputs": [],
   "source": [
    "coefficient"
   ]
  },
  {
   "cell_type": "code",
   "execution_count": null,
   "id": "7fd5c8af",
   "metadata": {},
   "outputs": [],
   "source": []
  }
 ],
 "metadata": {
  "kernelspec": {
   "display_name": "Python 3 (ipykernel)",
   "language": "python",
   "name": "python3"
  },
  "language_info": {
   "codemirror_mode": {
    "name": "ipython",
    "version": 3
   },
   "file_extension": ".py",
   "mimetype": "text/x-python",
   "name": "python",
   "nbconvert_exporter": "python",
   "pygments_lexer": "ipython3",
   "version": "3.11.5"
  }
 },
 "nbformat": 4,
 "nbformat_minor": 5
}
