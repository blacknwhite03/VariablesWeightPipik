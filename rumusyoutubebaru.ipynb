{
 "cells": [
  {
   "cell_type": "code",
   "execution_count": 83,
   "metadata": {},
   "outputs": [],
   "source": [
    "import pandas as pd\n",
    "import matplotlib.pyplot as plt\n",
    "import numpy as np"
   ]
  },
  {
   "cell_type": "code",
   "execution_count": 84,
   "metadata": {},
   "outputs": [
    {
     "name": "stdout",
     "output_type": "stream",
     "text": [
      "No                                                 0\n",
      "Provinsi                                           0\n",
      "Kota/Kabupaten                                     0\n",
      "Selisih Produktivitas Sktor Perkotaan (Rp/Ha)     28\n",
      "Efisiensi Penduduk (Penamb 1 Ha>Penamb Jiwa)      31\n",
      "Efsiensi Ekonomi (Penambahan 1 Ha>Penamb Juta)    14\n",
      "dtype: int64\n",
      "478\n",
      "No                                                0\n",
      "Provinsi                                          0\n",
      "Kota/Kabupaten                                    0\n",
      "Selisih Produktivitas Sktor Perkotaan (Rp/Ha)     0\n",
      "Efisiensi Penduduk (Penamb 1 Ha>Penamb Jiwa)      0\n",
      "Efsiensi Ekonomi (Penambahan 1 Ha>Penamb Juta)    0\n",
      "dtype: int64\n"
     ]
    },
    {
     "data": {
      "text/html": [
       "<div>\n",
       "<style scoped>\n",
       "    .dataframe tbody tr th:only-of-type {\n",
       "        vertical-align: middle;\n",
       "    }\n",
       "\n",
       "    .dataframe tbody tr th {\n",
       "        vertical-align: top;\n",
       "    }\n",
       "\n",
       "    .dataframe thead th {\n",
       "        text-align: right;\n",
       "    }\n",
       "</style>\n",
       "<table border=\"1\" class=\"dataframe\">\n",
       "  <thead>\n",
       "    <tr style=\"text-align: right;\">\n",
       "      <th></th>\n",
       "      <th>No</th>\n",
       "      <th>Provinsi</th>\n",
       "      <th>Kota/Kabupaten</th>\n",
       "      <th>Selisih Produktivitas Sktor Perkotaan (Rp/Ha)</th>\n",
       "      <th>Efisiensi Penduduk (Penamb 1 Ha&gt;Penamb Jiwa)</th>\n",
       "      <th>Efsiensi Ekonomi (Penambahan 1 Ha&gt;Penamb Juta)</th>\n",
       "    </tr>\n",
       "  </thead>\n",
       "  <tbody>\n",
       "    <tr>\n",
       "      <th>0</th>\n",
       "      <td>1</td>\n",
       "      <td>PROVINSI JAWA TENGAH</td>\n",
       "      <td>Cilacap</td>\n",
       "      <td>-4257.069468</td>\n",
       "      <td>12.485908</td>\n",
       "      <td>770.078362</td>\n",
       "    </tr>\n",
       "    <tr>\n",
       "      <th>1</th>\n",
       "      <td>2</td>\n",
       "      <td>PROVINSI JAWA TENGAH</td>\n",
       "      <td>Banyumas</td>\n",
       "      <td>-477.928505</td>\n",
       "      <td>13.871314</td>\n",
       "      <td>932.804393</td>\n",
       "    </tr>\n",
       "    <tr>\n",
       "      <th>2</th>\n",
       "      <td>3</td>\n",
       "      <td>PROVINSI JAWA TENGAH</td>\n",
       "      <td>Purbalingga</td>\n",
       "      <td>-1011.715732</td>\n",
       "      <td>15.441474</td>\n",
       "      <td>765.204199</td>\n",
       "    </tr>\n",
       "    <tr>\n",
       "      <th>3</th>\n",
       "      <td>4</td>\n",
       "      <td>PROVINSI JAWA TENGAH</td>\n",
       "      <td>Banjarnegara</td>\n",
       "      <td>-678.773717</td>\n",
       "      <td>21.380952</td>\n",
       "      <td>983.936787</td>\n",
       "    </tr>\n",
       "    <tr>\n",
       "      <th>4</th>\n",
       "      <td>5</td>\n",
       "      <td>PROVINSI JAWA TENGAH</td>\n",
       "      <td>Kebumen</td>\n",
       "      <td>-637.343199</td>\n",
       "      <td>9.524475</td>\n",
       "      <td>483.695898</td>\n",
       "    </tr>\n",
       "  </tbody>\n",
       "</table>\n",
       "</div>"
      ],
      "text/plain": [
       "   No             Provinsi  Kota/Kabupaten  \\\n",
       "0   1  PROVINSI JAWA TENGAH        Cilacap   \n",
       "1   2  PROVINSI JAWA TENGAH       Banyumas   \n",
       "2   3  PROVINSI JAWA TENGAH    Purbalingga   \n",
       "3   4  PROVINSI JAWA TENGAH   Banjarnegara   \n",
       "4   5  PROVINSI JAWA TENGAH        Kebumen   \n",
       "\n",
       "   Selisih Produktivitas Sktor Perkotaan (Rp/Ha)  \\\n",
       "0                                   -4257.069468   \n",
       "1                                    -477.928505   \n",
       "2                                   -1011.715732   \n",
       "3                                    -678.773717   \n",
       "4                                    -637.343199   \n",
       "\n",
       "   Efisiensi Penduduk (Penamb 1 Ha>Penamb Jiwa)  \\\n",
       "0                                     12.485908   \n",
       "1                                     13.871314   \n",
       "2                                     15.441474   \n",
       "3                                     21.380952   \n",
       "4                                      9.524475   \n",
       "\n",
       "   Efsiensi Ekonomi (Penambahan 1 Ha>Penamb Juta)  \n",
       "0                                      770.078362  \n",
       "1                                      932.804393  \n",
       "2                                      765.204199  \n",
       "3                                      983.936787  \n",
       "4                                      483.695898  "
      ]
     },
     "execution_count": 84,
     "metadata": {},
     "output_type": "execute_result"
    }
   ],
   "source": [
    "#D:\\VariablesWeightPipik-main\n",
    "filename_ = \"Peningk Produktivitas, Efisiens.xlsx\"\n",
    "path_computer = \"C:/Users/pc/Documents/pythonProjects/VariablesWeightPipik-main/\"\n",
    "path_laptop = \"D:/VariablesWeightPipik-main/\"\n",
    "dataframe = pd.read_excel(path_laptop + filename_)\n",
    "# dependent = pd.read_excel(r\"D:/pythonprojects/VariablesWeightPipik/dependent.xlsx\")\n",
    "# independent = pd.read_excel(r\"D:/pythonprojects/VariablesWeightPipik/independent.xlsx\")\n",
    "\n",
    "# dataframe = dataframe.drop('Unnamed: 7',axis = 1)\n",
    "# dataframe = dataframe.drop('Unnamed: 8',axis = 1)\n",
    "print(dataframe.isna().sum()) #50\n",
    "dataframe = dataframe.dropna()\n",
    "#dataframe.fillna(dataframe.mean(numeric_only=True),inplace=True)\n",
    "\n",
    "print(len(dataframe))\n",
    "print(dataframe.isna().sum())\n",
    "dataframe.head(5)"
   ]
  },
  {
   "cell_type": "code",
   "execution_count": 85,
   "metadata": {},
   "outputs": [],
   "source": [
    "start_indexing_dependent_var = 3#:(y) banyak independent variabel \n",
    "start_indexing_independent_var = 4 #(x)\n",
    "\n",
    "nama_x =  dataframe.columns[start_indexing_independent_var]\n",
    "nama_y = dataframe.columns[start_indexing_dependent_var]\n",
    "\n",
    "n_row = len(dataframe)  #banyak per kolom (banyak baris)\n",
    "\n",
    "x  = dataframe.iloc[:,start_indexing_dependent_var]\n",
    "y  = dataframe.iloc[:,start_indexing_independent_var]\n"
   ]
  },
  {
   "cell_type": "code",
   "execution_count": 86,
   "metadata": {},
   "outputs": [
    {
     "data": {
      "text/plain": [
       "3.206626919836656"
      ]
     },
     "execution_count": 86,
     "metadata": {},
     "output_type": "execute_result"
    }
   ],
   "source": [
    "from sklearn.preprocessing import StandardScaler\n",
    "import numpy as np\n",
    "x_standarscaler = np.array(x)\n",
    "x_standarscaler = x_standarscaler.reshape(-1,1)\n",
    "x_standarscaler = StandardScaler().fit(x_standarscaler).transform(x_standarscaler.astype(float))\n",
    "x_standarscaler.max()"
   ]
  },
  {
   "cell_type": "code",
   "execution_count": 87,
   "metadata": {},
   "outputs": [
    {
     "data": {
      "text/plain": [
       "11.584180289739209"
      ]
     },
     "execution_count": 87,
     "metadata": {},
     "output_type": "execute_result"
    }
   ],
   "source": [
    "y_standarscaler = np.array(y)\n",
    "y_standarscaler = y_standarscaler.reshape(-1,1)\n",
    "y_standarscaler = StandardScaler().fit(y_standarscaler).transform(y_standarscaler.astype(float))\n",
    "y_standarscaler.max()"
   ]
  },
  {
   "cell_type": "code",
   "execution_count": 88,
   "metadata": {},
   "outputs": [
    {
     "name": "stdout",
     "output_type": "stream",
     "text": [
      "[-0.0529025253378046, 0.17164255555522967, 0.1399265393428031, 0.1597089429147864, 0.16217061853453907]\n"
     ]
    },
    {
     "data": {
      "text/plain": [
       "[-0.42691029433371946,\n",
       " -0.4196964969907815,\n",
       " -0.41152068636275946,\n",
       " -0.38059387172941256,\n",
       " -0.44233045207988014]"
      ]
     },
     "execution_count": 88,
     "metadata": {},
     "output_type": "execute_result"
    }
   ],
   "source": [
    "x_data = []\n",
    "y_data = []\n",
    "for i in range(len(x)):\n",
    "    x_data.append(x_standarscaler[i][0])\n",
    "    y_data.append(y_standarscaler[i][0])\n",
    "print(x_data[:5])\n",
    "y_data[:5]\n"
   ]
  },
  {
   "cell_type": "code",
   "execution_count": 89,
   "metadata": {},
   "outputs": [
    {
     "name": "stdout",
     "output_type": "stream",
     "text": [
      "3.206626919836656\n",
      "11.584180289739209\n"
     ]
    }
   ],
   "source": [
    "\n",
    "df = pd.DataFrame({\"X\":x, \"Y\" : y})\n",
    "print(df[\"X\"].max())\n",
    "print(df[\"Y\"].max())"
   ]
  },
  {
   "cell_type": "code",
   "execution_count": 90,
   "metadata": {},
   "outputs": [
    {
     "data": {
      "text/html": [
       "<div>\n",
       "<style scoped>\n",
       "    .dataframe tbody tr th:only-of-type {\n",
       "        vertical-align: middle;\n",
       "    }\n",
       "\n",
       "    .dataframe tbody tr th {\n",
       "        vertical-align: top;\n",
       "    }\n",
       "\n",
       "    .dataframe thead th {\n",
       "        text-align: right;\n",
       "    }\n",
       "</style>\n",
       "<table border=\"1\" class=\"dataframe\">\n",
       "  <thead>\n",
       "    <tr style=\"text-align: right;\">\n",
       "      <th></th>\n",
       "      <th>X</th>\n",
       "      <th>Y</th>\n",
       "      <th>rank_x</th>\n",
       "      <th>rank_y</th>\n",
       "    </tr>\n",
       "  </thead>\n",
       "  <tbody>\n",
       "    <tr>\n",
       "      <th>314</th>\n",
       "      <td>-14.110847</td>\n",
       "      <td>-0.240959</td>\n",
       "      <td>1.0</td>\n",
       "      <td>234.0</td>\n",
       "    </tr>\n",
       "    <tr>\n",
       "      <th>385</th>\n",
       "      <td>-9.738216</td>\n",
       "      <td>-0.364784</td>\n",
       "      <td>2.0</td>\n",
       "      <td>117.0</td>\n",
       "    </tr>\n",
       "    <tr>\n",
       "      <th>349</th>\n",
       "      <td>-6.010517</td>\n",
       "      <td>-0.417802</td>\n",
       "      <td>3.0</td>\n",
       "      <td>55.0</td>\n",
       "    </tr>\n",
       "    <tr>\n",
       "      <th>139</th>\n",
       "      <td>-5.261172</td>\n",
       "      <td>1.715215</td>\n",
       "      <td>4.0</td>\n",
       "      <td>466.0</td>\n",
       "    </tr>\n",
       "    <tr>\n",
       "      <th>154</th>\n",
       "      <td>-4.900297</td>\n",
       "      <td>0.261754</td>\n",
       "      <td>5.0</td>\n",
       "      <td>411.0</td>\n",
       "    </tr>\n",
       "    <tr>\n",
       "      <th>...</th>\n",
       "      <td>...</td>\n",
       "      <td>...</td>\n",
       "      <td>...</td>\n",
       "      <td>...</td>\n",
       "    </tr>\n",
       "    <tr>\n",
       "      <th>111</th>\n",
       "      <td>0.838231</td>\n",
       "      <td>0.896489</td>\n",
       "      <td>474.0</td>\n",
       "      <td>453.0</td>\n",
       "    </tr>\n",
       "    <tr>\n",
       "      <th>357</th>\n",
       "      <td>0.950221</td>\n",
       "      <td>3.696580</td>\n",
       "      <td>475.0</td>\n",
       "      <td>473.0</td>\n",
       "    </tr>\n",
       "    <tr>\n",
       "      <th>110</th>\n",
       "      <td>0.975787</td>\n",
       "      <td>1.096896</td>\n",
       "      <td>476.0</td>\n",
       "      <td>460.0</td>\n",
       "    </tr>\n",
       "    <tr>\n",
       "      <th>108</th>\n",
       "      <td>1.101735</td>\n",
       "      <td>8.528778</td>\n",
       "      <td>477.0</td>\n",
       "      <td>477.0</td>\n",
       "    </tr>\n",
       "    <tr>\n",
       "      <th>367</th>\n",
       "      <td>3.206627</td>\n",
       "      <td>-0.300281</td>\n",
       "      <td>478.0</td>\n",
       "      <td>181.0</td>\n",
       "    </tr>\n",
       "  </tbody>\n",
       "</table>\n",
       "<p>478 rows × 4 columns</p>\n",
       "</div>"
      ],
      "text/plain": [
       "             X         Y  rank_x  rank_y\n",
       "314 -14.110847 -0.240959     1.0   234.0\n",
       "385  -9.738216 -0.364784     2.0   117.0\n",
       "349  -6.010517 -0.417802     3.0    55.0\n",
       "139  -5.261172  1.715215     4.0   466.0\n",
       "154  -4.900297  0.261754     5.0   411.0\n",
       "..         ...       ...     ...     ...\n",
       "111   0.838231  0.896489   474.0   453.0\n",
       "357   0.950221  3.696580   475.0   473.0\n",
       "110   0.975787  1.096896   476.0   460.0\n",
       "108   1.101735  8.528778   477.0   477.0\n",
       "367   3.206627 -0.300281   478.0   181.0\n",
       "\n",
       "[478 rows x 4 columns]"
      ]
     },
     "execution_count": 90,
     "metadata": {},
     "output_type": "execute_result"
    }
   ],
   "source": [
    "df[\"rank_x\"] = df[\"X\"].rank()\n",
    "# print(df[\"rank_x\"].min())\n",
    "# print(df[\"rank_x\"].max())\n",
    "df[\"rank_y\"] = df[\"Y\"].rank()\n",
    "\n",
    "df.head(5)\n",
    "df = df.sort_values(by=\"rank_x\")\n",
    "df"
   ]
  },
  {
   "cell_type": "code",
   "execution_count": 91,
   "metadata": {},
   "outputs": [
    {
     "name": "stdout",
     "output_type": "stream",
     "text": [
      "Sum term :58705.0\n",
      "0.2291986712359344\n"
     ]
    }
   ],
   "source": [
    "n = len(df)\n",
    "\n",
    "sum_term  =df['rank_y'].diff().abs().sum()\n",
    "\n",
    "coefficient = (1 - 3* sum_term/ (pow(n,2) - 1)) \n",
    "print(\"Sum term :\" + str(sum_term))\n",
    "print(coefficient)"
   ]
  },
  {
   "cell_type": "code",
   "execution_count": 94,
   "metadata": {},
   "outputs": [],
   "source": [
    "line_x = [x_standarscaler.min(),x_standarscaler.max()]\n",
    "line_y = [(coefficient * line_x[0]),(coefficient * line_x[1])]"
   ]
  },
  {
   "cell_type": "code",
   "execution_count": 95,
   "metadata": {},
   "outputs": [
    {
     "data": {
      "image/png": "[encoded data removed]",
      "text/plain": [
       "<Figure size 640x480 with 1 Axes>"
      ]
     },
     "metadata": {},
     "output_type": "display_data"
    }
   ],
   "source": [
    "plt.scatter(x=x_data,y=y_data)\n",
    "plt.plot(line_x,line_y)\n",
    "plt.xlabel(nama_x)\n",
    "plt.ylabel(nama_y)\n",
    "plt.title(\"Gradien: \" + str(coefficient))\n",
    "plt.show()"
   ]
  },
  {
   "cell_type": "code",
   "execution_count": 96,
   "metadata": {},
   "outputs": [],
   "source": [
    "line_xx = [x.min(),x.max()]\n",
    "line_yy = [(coefficient * line_x[0]),(coefficient * line_x[1])]"
   ]
  },
  {
   "cell_type": "code",
   "execution_count": 98,
   "metadata": {},
   "outputs": [
    {
     "data": {
      "image/png": "[encoded data removed]",
      "text/plain": [
       "<Figure size 640x480 with 1 Axes>"
      ]
     },
     "metadata": {},
     "output_type": "display_data"
    }
   ],
   "source": [
    "plt.scatter(x=x,y=y)\n",
    "plt.plot(line_xx,line_yy)\n",
    "plt.xlabel(nama_x)\n",
    "plt.ylabel(nama_y)\n",
    "plt.title(\"Gradien: \" + str(coefficient))\n",
    "plt.show()"
   ]
  },
  {
   "cell_type": "code",
   "execution_count": null,
   "metadata": {},
   "outputs": [],
   "source": []
  }
 ],
 "metadata": {
  "kernelspec": {
   "display_name": "Python 3",
   "language": "python",
   "name": "python3"
  },
  "language_info": {
   "codemirror_mode": {
    "name": "ipython",
    "version": 3
   },
   "file_extension": ".py",
   "mimetype": "text/x-python",
   "name": "python",
   "nbconvert_exporter": "python",
   "pygments_lexer": "ipython3",
   "version": "3.8.5"
  },
  "orig_nbformat": 4
 },
 "nbformat": 4,
 "nbformat_minor": 2
}
