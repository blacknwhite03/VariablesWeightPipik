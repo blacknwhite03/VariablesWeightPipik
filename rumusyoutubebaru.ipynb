{
 "cells": [
  {
   "cell_type": "code",
   "execution_count": 2016,
   "metadata": {},
   "outputs": [],
   "source": [
    "import pandas as pd\n",
    "import matplotlib.pyplot as plt\n",
    "import numpy as np"
   ]
  },
  {
   "cell_type": "code",
   "execution_count": 2017,
   "metadata": {},
   "outputs": [
    {
     "data": {
      "text/html": [
       "<div>\n",
       "<style scoped>\n",
       "    .dataframe tbody tr th:only-of-type {\n",
       "        vertical-align: middle;\n",
       "    }\n",
       "\n",
       "    .dataframe tbody tr th {\n",
       "        vertical-align: top;\n",
       "    }\n",
       "\n",
       "    .dataframe thead th {\n",
       "        text-align: right;\n",
       "    }\n",
       "</style>\n",
       "<table border=\"1\" class=\"dataframe\">\n",
       "  <thead>\n",
       "    <tr style=\"text-align: right;\">\n",
       "      <th></th>\n",
       "      <th>No</th>\n",
       "      <th>Provinsi</th>\n",
       "      <th>Kota/Kabupaten</th>\n",
       "      <th>Sektor Sekunder  2010 (Juta)</th>\n",
       "      <th>Sektor Tersier 2010 (Juta)</th>\n",
       "      <th>Total PDRB Perkotaan 2010 (Juta)</th>\n",
       "      <th>Sektor Sekunder 2020 (Juta)</th>\n",
       "      <th>Sektor Tersier 2020 (Juta)</th>\n",
       "      <th>Total PDRB Perkotaan 2020 (Juta)</th>\n",
       "      <th>Selisih PDRB Sektor Sekunder</th>\n",
       "      <th>...</th>\n",
       "      <th>Selisih Produktivitas Sektor Sekunder (%)</th>\n",
       "      <th>Produktivitas Sektor Tersier 2010 (Juta/Ha)</th>\n",
       "      <th>Produktivitas Sektor Tersier 2020 (Juta/Ha)</th>\n",
       "      <th>Selisih Produktvitas Sektor tersier</th>\n",
       "      <th>Produktivitas Sektor Perkotaan 2010</th>\n",
       "      <th>Produktivitas Sektor Perkotaan 2020</th>\n",
       "      <th>Selisih Produktivitas Sktor Perkotaan</th>\n",
       "      <th>Efisiensi Penduduk (Penamb 1 Ha&gt;Penamb Jiwa)</th>\n",
       "      <th>Efsiensi Lahan  (Penambahan 1 Ha&gt;Penamb Juta)</th>\n",
       "      <th>Penambahan Pdd Perkotaan&gt;Penambahan  PDRB Perkotaan</th>\n",
       "    </tr>\n",
       "  </thead>\n",
       "  <tbody>\n",
       "    <tr>\n",
       "      <th>0</th>\n",
       "      <td>1</td>\n",
       "      <td>PROVINSI JAWA TENGAH</td>\n",
       "      <td>Cilacap</td>\n",
       "      <td>57920207.00</td>\n",
       "      <td>9379124.32</td>\n",
       "      <td>67299331.32</td>\n",
       "      <td>63588025.06</td>\n",
       "      <td>16881186.41</td>\n",
       "      <td>80469211.47</td>\n",
       "      <td>5667818.06</td>\n",
       "      <td>...</td>\n",
       "      <td>-0.616043</td>\n",
       "      <td>1019.691707</td>\n",
       "      <td>641.870206</td>\n",
       "      <td>-377.821501</td>\n",
       "      <td>7316.735303</td>\n",
       "      <td>3059.665835</td>\n",
       "      <td>-4257.069468</td>\n",
       "      <td>12.485908</td>\n",
       "      <td>770.078362</td>\n",
       "      <td>61.675799</td>\n",
       "    </tr>\n",
       "    <tr>\n",
       "      <th>1</th>\n",
       "      <td>2</td>\n",
       "      <td>PROVINSI JAWA TENGAH</td>\n",
       "      <td>Banyumas</td>\n",
       "      <td>7340659.91</td>\n",
       "      <td>10885588.18</td>\n",
       "      <td>18226248.09</td>\n",
       "      <td>14214295.60</td>\n",
       "      <td>18436839.63</td>\n",
       "      <td>32651135.23</td>\n",
       "      <td>6873635.69</td>\n",
       "      <td>...</td>\n",
       "      <td>-0.216784</td>\n",
       "      <td>1036.426562</td>\n",
       "      <td>710.010384</td>\n",
       "      <td>-326.416178</td>\n",
       "      <td>1735.337341</td>\n",
       "      <td>1257.408835</td>\n",
       "      <td>-477.928505</td>\n",
       "      <td>13.871314</td>\n",
       "      <td>932.804393</td>\n",
       "      <td>67.247010</td>\n",
       "    </tr>\n",
       "    <tr>\n",
       "      <th>2</th>\n",
       "      <td>3</td>\n",
       "      <td>PROVINSI JAWA TENGAH</td>\n",
       "      <td>Purbalingga</td>\n",
       "      <td>3231956.00</td>\n",
       "      <td>3769474.00</td>\n",
       "      <td>7001430.00</td>\n",
       "      <td>5681225.00</td>\n",
       "      <td>6386622.00</td>\n",
       "      <td>12067847.00</td>\n",
       "      <td>2449269.00</td>\n",
       "      <td>...</td>\n",
       "      <td>-0.438326</td>\n",
       "      <td>1212.439370</td>\n",
       "      <td>656.384584</td>\n",
       "      <td>-556.054786</td>\n",
       "      <td>2251.987777</td>\n",
       "      <td>1240.272045</td>\n",
       "      <td>-1011.715732</td>\n",
       "      <td>15.441474</td>\n",
       "      <td>765.204199</td>\n",
       "      <td>49.555126</td>\n",
       "    </tr>\n",
       "    <tr>\n",
       "      <th>3</th>\n",
       "      <td>4</td>\n",
       "      <td>PROVINSI JAWA TENGAH</td>\n",
       "      <td>Banjarnegara</td>\n",
       "      <td>1755430.75</td>\n",
       "      <td>3870742.58</td>\n",
       "      <td>5626173.33</td>\n",
       "      <td>3145849.62</td>\n",
       "      <td>6716171.58</td>\n",
       "      <td>9862021.20</td>\n",
       "      <td>1390418.87</td>\n",
       "      <td>...</td>\n",
       "      <td>-0.310054</td>\n",
       "      <td>1436.268119</td>\n",
       "      <td>959.453083</td>\n",
       "      <td>-476.815036</td>\n",
       "      <td>2087.633889</td>\n",
       "      <td>1408.860171</td>\n",
       "      <td>-678.773717</td>\n",
       "      <td>21.380952</td>\n",
       "      <td>983.936787</td>\n",
       "      <td>46.019315</td>\n",
       "    </tr>\n",
       "    <tr>\n",
       "      <th>4</th>\n",
       "      <td>5</td>\n",
       "      <td>PROVINSI JAWA TENGAH</td>\n",
       "      <td>Kebumen</td>\n",
       "      <td>3163415.52</td>\n",
       "      <td>5062523.61</td>\n",
       "      <td>8225939.13</td>\n",
       "      <td>5376448.53</td>\n",
       "      <td>9252656.90</td>\n",
       "      <td>14629105.43</td>\n",
       "      <td>2213033.01</td>\n",
       "      <td>...</td>\n",
       "      <td>-0.478383</td>\n",
       "      <td>863.617129</td>\n",
       "      <td>484.432298</td>\n",
       "      <td>-379.184831</td>\n",
       "      <td>1403.264949</td>\n",
       "      <td>765.921750</td>\n",
       "      <td>-637.343199</td>\n",
       "      <td>9.524475</td>\n",
       "      <td>483.695898</td>\n",
       "      <td>50.784521</td>\n",
       "    </tr>\n",
       "  </tbody>\n",
       "</table>\n",
       "<p>5 rows × 38 columns</p>\n",
       "</div>"
      ],
      "text/plain": [
       "   No             Provinsi  Kota/Kabupaten  Sektor Sekunder  2010 (Juta)  \\\n",
       "0   1  PROVINSI JAWA TENGAH        Cilacap                   57920207.00   \n",
       "1   2  PROVINSI JAWA TENGAH       Banyumas                    7340659.91   \n",
       "2   3  PROVINSI JAWA TENGAH    Purbalingga                    3231956.00   \n",
       "3   4  PROVINSI JAWA TENGAH   Banjarnegara                    1755430.75   \n",
       "4   5  PROVINSI JAWA TENGAH        Kebumen                    3163415.52   \n",
       "\n",
       "   Sektor Tersier 2010 (Juta)  Total PDRB Perkotaan 2010 (Juta)  \\\n",
       "0                  9379124.32                       67299331.32   \n",
       "1                 10885588.18                       18226248.09   \n",
       "2                  3769474.00                        7001430.00   \n",
       "3                  3870742.58                        5626173.33   \n",
       "4                  5062523.61                        8225939.13   \n",
       "\n",
       "   Sektor Sekunder 2020 (Juta)  Sektor Tersier 2020 (Juta)  \\\n",
       "0                  63588025.06                 16881186.41   \n",
       "1                  14214295.60                 18436839.63   \n",
       "2                   5681225.00                  6386622.00   \n",
       "3                   3145849.62                  6716171.58   \n",
       "4                   5376448.53                  9252656.90   \n",
       "\n",
       "   Total PDRB Perkotaan 2020 (Juta)  Selisih PDRB Sektor Sekunder  ...  \\\n",
       "0                       80469211.47                    5667818.06  ...   \n",
       "1                       32651135.23                    6873635.69  ...   \n",
       "2                       12067847.00                    2449269.00  ...   \n",
       "3                        9862021.20                    1390418.87  ...   \n",
       "4                       14629105.43                    2213033.01  ...   \n",
       "\n",
       "   Selisih Produktivitas Sektor Sekunder (%)  \\\n",
       "0                                  -0.616043   \n",
       "1                                  -0.216784   \n",
       "2                                  -0.438326   \n",
       "3                                  -0.310054   \n",
       "4                                  -0.478383   \n",
       "\n",
       "   Produktivitas Sektor Tersier 2010 (Juta/Ha)  \\\n",
       "0                                  1019.691707   \n",
       "1                                  1036.426562   \n",
       "2                                  1212.439370   \n",
       "3                                  1436.268119   \n",
       "4                                   863.617129   \n",
       "\n",
       "   Produktivitas Sektor Tersier 2020 (Juta/Ha)  \\\n",
       "0                                   641.870206   \n",
       "1                                   710.010384   \n",
       "2                                   656.384584   \n",
       "3                                   959.453083   \n",
       "4                                   484.432298   \n",
       "\n",
       "   Selisih Produktvitas Sektor tersier  Produktivitas Sektor Perkotaan 2010  \\\n",
       "0                          -377.821501                          7316.735303   \n",
       "1                          -326.416178                          1735.337341   \n",
       "2                          -556.054786                          2251.987777   \n",
       "3                          -476.815036                          2087.633889   \n",
       "4                          -379.184831                          1403.264949   \n",
       "\n",
       "   Produktivitas Sektor Perkotaan 2020  Selisih Produktivitas Sktor Perkotaan  \\\n",
       "0                          3059.665835                           -4257.069468   \n",
       "1                          1257.408835                            -477.928505   \n",
       "2                          1240.272045                           -1011.715732   \n",
       "3                          1408.860171                            -678.773717   \n",
       "4                           765.921750                            -637.343199   \n",
       "\n",
       "   Efisiensi Penduduk (Penamb 1 Ha>Penamb Jiwa)  \\\n",
       "0                                     12.485908   \n",
       "1                                     13.871314   \n",
       "2                                     15.441474   \n",
       "3                                     21.380952   \n",
       "4                                      9.524475   \n",
       "\n",
       "   Efsiensi Lahan  (Penambahan 1 Ha>Penamb Juta)  \\\n",
       "0                                     770.078362   \n",
       "1                                     932.804393   \n",
       "2                                     765.204199   \n",
       "3                                     983.936787   \n",
       "4                                     483.695898   \n",
       "\n",
       "   Penambahan Pdd Perkotaan>Penambahan  PDRB Perkotaan   \n",
       "0                                          61.675799     \n",
       "1                                          67.247010     \n",
       "2                                          49.555126     \n",
       "3                                          46.019315     \n",
       "4                                          50.784521     \n",
       "\n",
       "[5 rows x 38 columns]"
      ]
     },
     "execution_count": 2017,
     "metadata": {},
     "output_type": "execute_result"
    }
   ],
   "source": [
    "#D:\\VariablesWeightPipik-main\n",
    "filename_ = \"Data base Nov 2023 Perkembangan Urbanisasi 2010 - 2020.xlsx\"\n",
    "path_computer = \"C:/Users/pc/Documents/pythonProjects/VariablesWeightPipik-main/\"\n",
    "path_laptop = \"D:/VariablesWeightPipik-main/\"\n",
    "dataframe = pd.read_excel(path_computer + filename_)\n",
    "# dependent = pd.read_excel(r\"D:/pythonprojects/VariablesWeightPipik/dependent.xlsx\")\n",
    "# independent = pd.read_excel(r\"D:/pythonprojects/VariablesWeightPipik/independent.xlsx\")\n",
    "\n",
    "# dataframe = dataframe.drop('Unnamed: 7',axis = 1)\n",
    "# dataframe = dataframe.drop('Unnamed: 8',axis = 1)\n",
    "\n",
    "dataframe.head(5)"
   ]
  },
  {
   "cell_type": "code",
   "execution_count": 2018,
   "metadata": {},
   "outputs": [],
   "source": [
    "#DICTIONARY\n",
    "TOTAL_PDRB_PERKOTAAN_2010 = 5\n",
    "TOTAL_PDRB_PERKOTAAN_2020 = 8\n",
    "\n",
    "LAHAN_TERBANGUN_2010 = 13\n",
    "LAHAN_TERBANGUN_2020 = 14\n",
    "SELISIH_LAHAN_TERBANGUN =  15\n",
    "\n",
    "PENDUDUK_PERKOTAAN_2010 = 17\n",
    "PENDUDUK_PERKOTAAN_2020 = 18\n",
    "SELISIH_PENDUDUK_PERKOTAAN = 19\n",
    "\n",
    "KEPADATAN_PENDUDUK_2010 = 21\n",
    "KEPADATAN_PENDUDUK_2020 = 22\n",
    "SELISIH_PENINGKATAN_KEPADATAN_ = 23\n",
    "\n",
    "PRODUKTIVITAS_2010 = 25\n",
    "PRODUKTIVITAS_2020 = 26\n",
    "SELISIH_PENINGKATAN_PRODUKTIVITAS = 27\n",
    "\n",
    "SELISIH_PENINGKATAN_PDRB = 11\n",
    "\n",
    "EFISIENSI_PENDUDUK = 35\n",
    "EFISIENSI_LAHAN = 36\n"
   ]
  },
  {
   "cell_type": "code",
   "execution_count": 2019,
   "metadata": {},
   "outputs": [
    {
     "data": {
      "text/html": [
       "<div>\n",
       "<style scoped>\n",
       "    .dataframe tbody tr th:only-of-type {\n",
       "        vertical-align: middle;\n",
       "    }\n",
       "\n",
       "    .dataframe tbody tr th {\n",
       "        vertical-align: top;\n",
       "    }\n",
       "\n",
       "    .dataframe thead th {\n",
       "        text-align: right;\n",
       "    }\n",
       "</style>\n",
       "<table border=\"1\" class=\"dataframe\">\n",
       "  <thead>\n",
       "    <tr style=\"text-align: right;\">\n",
       "      <th></th>\n",
       "      <th>Selisih Penduduk Perkotaan (Jiwa)  (X)</th>\n",
       "      <th>Efsiensi Lahan  (Penambahan 1 Ha&gt;Penamb Juta) (Y)</th>\n",
       "    </tr>\n",
       "  </thead>\n",
       "  <tbody>\n",
       "    <tr>\n",
       "      <th>0</th>\n",
       "      <td>213534.0</td>\n",
       "      <td>770.078362</td>\n",
       "    </tr>\n",
       "    <tr>\n",
       "      <th>1</th>\n",
       "      <td>214506.0</td>\n",
       "      <td>932.804393</td>\n",
       "    </tr>\n",
       "    <tr>\n",
       "      <th>2</th>\n",
       "      <td>102238.0</td>\n",
       "      <td>765.204199</td>\n",
       "    </tr>\n",
       "    <tr>\n",
       "      <th>3</th>\n",
       "      <td>92045.0</td>\n",
       "      <td>983.936787</td>\n",
       "    </tr>\n",
       "    <tr>\n",
       "      <th>4</th>\n",
       "      <td>126085.0</td>\n",
       "      <td>483.695898</td>\n",
       "    </tr>\n",
       "    <tr>\n",
       "      <th>...</th>\n",
       "      <td>...</td>\n",
       "      <td>...</td>\n",
       "    </tr>\n",
       "    <tr>\n",
       "      <th>509</th>\n",
       "      <td>45074.0</td>\n",
       "      <td>NaN</td>\n",
       "    </tr>\n",
       "    <tr>\n",
       "      <th>510</th>\n",
       "      <td>20148.0</td>\n",
       "      <td>NaN</td>\n",
       "    </tr>\n",
       "    <tr>\n",
       "      <th>511</th>\n",
       "      <td>26799.0</td>\n",
       "      <td>NaN</td>\n",
       "    </tr>\n",
       "    <tr>\n",
       "      <th>512</th>\n",
       "      <td>26808.0</td>\n",
       "      <td>NaN</td>\n",
       "    </tr>\n",
       "    <tr>\n",
       "      <th>513</th>\n",
       "      <td>21731.0</td>\n",
       "      <td>NaN</td>\n",
       "    </tr>\n",
       "  </tbody>\n",
       "</table>\n",
       "<p>514 rows × 2 columns</p>\n",
       "</div>"
      ],
      "text/plain": [
       "     Selisih Penduduk Perkotaan (Jiwa)  (X)   \\\n",
       "0                                   213534.0   \n",
       "1                                   214506.0   \n",
       "2                                   102238.0   \n",
       "3                                    92045.0   \n",
       "4                                   126085.0   \n",
       "..                                       ...   \n",
       "509                                  45074.0   \n",
       "510                                  20148.0   \n",
       "511                                  26799.0   \n",
       "512                                  26808.0   \n",
       "513                                  21731.0   \n",
       "\n",
       "     Efsiensi Lahan  (Penambahan 1 Ha>Penamb Juta) (Y)   \n",
       "0                                           770.078362   \n",
       "1                                           932.804393   \n",
       "2                                           765.204199   \n",
       "3                                           983.936787   \n",
       "4                                           483.695898   \n",
       "..                                                 ...   \n",
       "509                                                NaN   \n",
       "510                                                NaN   \n",
       "511                                                NaN   \n",
       "512                                                NaN   \n",
       "513                                                NaN   \n",
       "\n",
       "[514 rows x 2 columns]"
      ]
     },
     "execution_count": 2019,
     "metadata": {},
     "output_type": "execute_result"
    }
   ],
   "source": [
    "start_indexing_independent_var = SELISIH_PENDUDUK_PERKOTAAN#(x)\n",
    "start_indexing_dependent_var = SELISIH_PENINGKATAN_PRODUKTIVITAS #(y)\n",
    "\n",
    "# start_indexing_independent_var = PRODUKTIVITAS_2010 #(x)\n",
    "# start_indexing_dependent_var = LAHAN_TERBANGUN_2010 #(y)\n",
    "\n",
    "#:(y) banyak independent variabel \n",
    "\n",
    "nama_x =  dataframe.columns[start_indexing_independent_var]\n",
    "nama_y = dataframe.columns[start_indexing_dependent_var]\n",
    "\n",
    "n_row = len(dataframe)  #banyak per kolom (banyak baris)\n",
    "\n",
    "x_temp  = dataframe.iloc[:,start_indexing_independent_var]\n",
    "y_temp  = dataframe.iloc[:,start_indexing_dependent_var]\n",
    "\n",
    "\n",
    "df = pd.DataFrame({nama_x + \" (X) \" : x_temp, nama_y + \" (Y) \" : y_temp  })\n",
    "df"
   ]
  },
  {
   "cell_type": "code",
   "execution_count": 2020,
   "metadata": {},
   "outputs": [
    {
     "name": "stdout",
     "output_type": "stream",
     "text": [
      "Selisih Penduduk Perkotaan (Jiwa)  (X)                  2\n",
      "Efsiensi Lahan  (Penambahan 1 Ha>Penamb Juta) (Y)     505\n",
      "dtype: int64\n",
      "9\n",
      "Selisih Penduduk Perkotaan (Jiwa)  (X)                0\n",
      "Efsiensi Lahan  (Penambahan 1 Ha>Penamb Juta) (Y)     0\n",
      "dtype: int64\n"
     ]
    },
    {
     "data": {
      "text/plain": [
       "9"
      ]
     },
     "execution_count": 2020,
     "metadata": {},
     "output_type": "execute_result"
    }
   ],
   "source": [
    "print(df.isna().sum())\n",
    "df = df.dropna()\n",
    "\n",
    "print(len(df))\n",
    "print(df.isna().sum())\n",
    "len(df)"
   ]
  },
  {
   "cell_type": "code",
   "execution_count": 2021,
   "metadata": {},
   "outputs": [
    {
     "data": {
      "text/plain": [
       "0    213534.0\n",
       "1    214506.0\n",
       "2    102238.0\n",
       "3     92045.0\n",
       "4    126085.0\n",
       "5     64009.0\n",
       "6     78014.0\n",
       "7    105540.0\n",
       "8    102667.0\n",
       "Name: Selisih Penduduk Perkotaan (Jiwa)  (X) , dtype: float64"
      ]
     },
     "execution_count": 2021,
     "metadata": {},
     "output_type": "execute_result"
    }
   ],
   "source": [
    "x  = df.iloc[:,0]\n",
    "y = pd.to_numeric(df.iloc[:,1])\n",
    "x"
   ]
  },
  {
   "cell_type": "code",
   "execution_count": 2022,
   "metadata": {},
   "outputs": [
    {
     "data": {
      "text/plain": [
       "1.7832224261877998"
      ]
     },
     "execution_count": 2022,
     "metadata": {},
     "output_type": "execute_result"
    }
   ],
   "source": [
    "from sklearn.preprocessing import StandardScaler\n",
    "import numpy as np\n",
    "x_standarscaler = np.array(x)\n",
    "x_standarscaler = x_standarscaler.reshape(-1,1)\n",
    "x_standarscaler = StandardScaler().fit(x_standarscaler).transform(x_standarscaler.astype(float))\n",
    "x_standarscaler.max()"
   ]
  },
  {
   "cell_type": "code",
   "execution_count": 2023,
   "metadata": {},
   "outputs": [
    {
     "data": {
      "text/plain": [
       "2.005897140800565"
      ]
     },
     "execution_count": 2023,
     "metadata": {},
     "output_type": "execute_result"
    }
   ],
   "source": [
    "y_standarscaler = np.array(y)\n",
    "y_standarscaler = y_standarscaler.reshape(-1,1)\n",
    "y_standarscaler = StandardScaler().fit(y_standarscaler).transform(y_standarscaler.astype(float))\n",
    "y_standarscaler.max()\n"
   ]
  },
  {
   "cell_type": "code",
   "execution_count": 2024,
   "metadata": {},
   "outputs": [
    {
     "name": "stdout",
     "output_type": "stream",
     "text": [
      "[1.764470977983545, 1.7832224261877998, -0.3826084246303924, -0.579247839801143, 0.07743867961535374, -1.1201075124909463, -0.8499284671199699, -0.3189075172533868, -0.3743323224908602]\n"
     ]
    },
    {
     "data": {
      "text/plain": [
       "[-0.5095126665725414,\n",
       " 0.23448716812054013,\n",
       " -0.5317978335471126,\n",
       " 0.46826963310769176,\n",
       " -1.8188821893473324,\n",
       " 0.6579067653576747,\n",
       " 2.005897140800565,\n",
       " 0.12781853082618444,\n",
       " -0.6341865487456692]"
      ]
     },
     "execution_count": 2024,
     "metadata": {},
     "output_type": "execute_result"
    }
   ],
   "source": [
    "x_data = []\n",
    "y_data = []\n",
    "for i in range(len(x_standarscaler)):\n",
    "    x_data.append(x_standarscaler[i][0])\n",
    "    y_data.append(y_standarscaler[i][0])\n",
    "print(x_data)\n",
    "y_data"
   ]
  },
  {
   "cell_type": "code",
   "execution_count": 2025,
   "metadata": {},
   "outputs": [
    {
     "name": "stdout",
     "output_type": "stream",
     "text": [
      "1.7832224261877998\n",
      "2.005897140800565\n"
     ]
    }
   ],
   "source": [
    "df = pd.DataFrame({\"X\":x_data, \"Y\" : y_data})\n",
    "print(df[\"X\"].max())\n",
    "print(df[\"Y\"].max())"
   ]
  },
  {
   "cell_type": "code",
   "execution_count": 2026,
   "metadata": {},
   "outputs": [
    {
     "data": {
      "text/html": [
       "<div>\n",
       "<style scoped>\n",
       "    .dataframe tbody tr th:only-of-type {\n",
       "        vertical-align: middle;\n",
       "    }\n",
       "\n",
       "    .dataframe tbody tr th {\n",
       "        vertical-align: top;\n",
       "    }\n",
       "\n",
       "    .dataframe thead th {\n",
       "        text-align: right;\n",
       "    }\n",
       "</style>\n",
       "<table border=\"1\" class=\"dataframe\">\n",
       "  <thead>\n",
       "    <tr style=\"text-align: right;\">\n",
       "      <th></th>\n",
       "      <th>X</th>\n",
       "      <th>Y</th>\n",
       "      <th>rank_x</th>\n",
       "      <th>rank_y</th>\n",
       "    </tr>\n",
       "  </thead>\n",
       "  <tbody>\n",
       "    <tr>\n",
       "      <th>5</th>\n",
       "      <td>-1.120108</td>\n",
       "      <td>0.657907</td>\n",
       "      <td>1.0</td>\n",
       "      <td>8.0</td>\n",
       "    </tr>\n",
       "    <tr>\n",
       "      <th>6</th>\n",
       "      <td>-0.849928</td>\n",
       "      <td>2.005897</td>\n",
       "      <td>2.0</td>\n",
       "      <td>9.0</td>\n",
       "    </tr>\n",
       "    <tr>\n",
       "      <th>3</th>\n",
       "      <td>-0.579248</td>\n",
       "      <td>0.468270</td>\n",
       "      <td>3.0</td>\n",
       "      <td>7.0</td>\n",
       "    </tr>\n",
       "    <tr>\n",
       "      <th>2</th>\n",
       "      <td>-0.382608</td>\n",
       "      <td>-0.531798</td>\n",
       "      <td>4.0</td>\n",
       "      <td>3.0</td>\n",
       "    </tr>\n",
       "    <tr>\n",
       "      <th>8</th>\n",
       "      <td>-0.374332</td>\n",
       "      <td>-0.634187</td>\n",
       "      <td>5.0</td>\n",
       "      <td>2.0</td>\n",
       "    </tr>\n",
       "    <tr>\n",
       "      <th>7</th>\n",
       "      <td>-0.318908</td>\n",
       "      <td>0.127819</td>\n",
       "      <td>6.0</td>\n",
       "      <td>5.0</td>\n",
       "    </tr>\n",
       "    <tr>\n",
       "      <th>4</th>\n",
       "      <td>0.077439</td>\n",
       "      <td>-1.818882</td>\n",
       "      <td>7.0</td>\n",
       "      <td>1.0</td>\n",
       "    </tr>\n",
       "    <tr>\n",
       "      <th>0</th>\n",
       "      <td>1.764471</td>\n",
       "      <td>-0.509513</td>\n",
       "      <td>8.0</td>\n",
       "      <td>4.0</td>\n",
       "    </tr>\n",
       "    <tr>\n",
       "      <th>1</th>\n",
       "      <td>1.783222</td>\n",
       "      <td>0.234487</td>\n",
       "      <td>9.0</td>\n",
       "      <td>6.0</td>\n",
       "    </tr>\n",
       "  </tbody>\n",
       "</table>\n",
       "</div>"
      ],
      "text/plain": [
       "          X         Y  rank_x  rank_y\n",
       "5 -1.120108  0.657907     1.0     8.0\n",
       "6 -0.849928  2.005897     2.0     9.0\n",
       "3 -0.579248  0.468270     3.0     7.0\n",
       "2 -0.382608 -0.531798     4.0     3.0\n",
       "8 -0.374332 -0.634187     5.0     2.0\n",
       "7 -0.318908  0.127819     6.0     5.0\n",
       "4  0.077439 -1.818882     7.0     1.0\n",
       "0  1.764471 -0.509513     8.0     4.0\n",
       "1  1.783222  0.234487     9.0     6.0"
      ]
     },
     "execution_count": 2026,
     "metadata": {},
     "output_type": "execute_result"
    }
   ],
   "source": [
    "df[\"rank_x\"] = df[\"X\"].rank()\n",
    "# print(df[\"rank_x\"].min())\n",
    "# print(df[\"rank_x\"].max())\n",
    "df[\"rank_y\"] = df[\"Y\"].rank()\n",
    "\n",
    "df.head(5)\n",
    "df = df.sort_values(by=\"rank_x\")\n",
    "df"
   ]
  },
  {
   "cell_type": "code",
   "execution_count": 2027,
   "metadata": {},
   "outputs": [
    {
     "name": "stdout",
     "output_type": "stream",
     "text": [
      "Sum term :20.0\n",
      "0.25\n"
     ]
    }
   ],
   "source": [
    "n = len(df)\n",
    "\n",
    "sum_term  =df['rank_y'].diff().abs().sum()\n",
    "\n",
    "coefficient = (1 - 3* sum_term/ (pow(n,2) - 1)) \n",
    "print(\"Sum term :\" + str(sum_term))\n",
    "print(coefficient)"
   ]
  },
  {
   "cell_type": "code",
   "execution_count": 2028,
   "metadata": {},
   "outputs": [],
   "source": [
    "line_x = [x_standarscaler.min(),x_standarscaler.max()]\n",
    "line_y = [(coefficient * line_x[0]),(coefficient * line_x[1])]"
   ]
  },
  {
   "cell_type": "code",
   "execution_count": 2029,
   "metadata": {},
   "outputs": [
    {
     "data": {
      "image/png": "[encoded data removed]",
      "text/plain": [
       "<Figure size 640x480 with 1 Axes>"
      ]
     },
     "metadata": {},
     "output_type": "display_data"
    }
   ],
   "source": [
    "plt.scatter(x=x_data,y=y_data)\n",
    "plt.plot(line_x,line_y)\n",
    "plt.xlabel(nama_x)\n",
    "plt.ylabel(nama_y)\n",
    "plt.title(\"Gradien: \" + str(coefficient))\n",
    "plt.show()"
   ]
  },
  {
   "cell_type": "code",
   "execution_count": 2030,
   "metadata": {},
   "outputs": [],
   "source": [
    "line_xx = [x.min(),x.max()]\n",
    "line_yy = [(coefficient * line_x[0]),(coefficient * line_x[1])]"
   ]
  },
  {
   "cell_type": "code",
   "execution_count": 2031,
   "metadata": {},
   "outputs": [
    {
     "data": {
      "image/png": "[encoded data removed]",
      "text/plain": [
       "<Figure size 640x480 with 1 Axes>"
      ]
     },
     "metadata": {},
     "output_type": "display_data"
    }
   ],
   "source": [
    "plt.scatter(x=x,y=y)\n",
    "plt.plot(line_xx,line_yy)\n",
    "plt.xlabel(nama_x)\n",
    "plt.ylabel(nama_y)\n",
    "plt.title(\"Gradien: \" + str(coefficient))\n",
    "plt.show()"
   ]
  },
  {
   "cell_type": "code",
   "execution_count": null,
   "metadata": {},
   "outputs": [],
   "source": []
  }
 ],
 "metadata": {
  "kernelspec": {
   "display_name": "Python 3",
   "language": "python",
   "name": "python3"
  },
  "language_info": {
   "codemirror_mode": {
    "name": "ipython",
    "version": 3
   },
   "file_extension": ".py",
   "mimetype": "text/x-python",
   "name": "python",
   "nbconvert_exporter": "python",
   "pygments_lexer": "ipython3",
   "version": "3.11.5"
  },
  "orig_nbformat": 4
 },
 "nbformat": 4,
 "nbformat_minor": 2
}
